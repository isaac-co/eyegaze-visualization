{
 "cells": [
  {
   "cell_type": "markdown",
   "id": "b7145ac5",
   "metadata": {
    "toc": true
   },
   "source": [
    "<h1>Table of Contents<span class=\"tocSkip\"></span></h1>\n",
    "<div class=\"toc\"><ul class=\"toc-item\"><li><span><a href=\"#Preparation\" data-toc-modified-id=\"Preparation-1\">Preparation</a></span><ul class=\"toc-item\"><li><span><a href=\"#Load-files\" data-toc-modified-id=\"Load-files-1.1\">Load files</a></span></li></ul></li><li><span><a href=\"#Functions\" data-toc-modified-id=\"Functions-2\">Functions</a></span><ul class=\"toc-item\"><li><span><a href=\"#Helper-functions\" data-toc-modified-id=\"Helper-functions-2.1\">Helper functions</a></span></li><li><span><a href=\"#Metric-functions\" data-toc-modified-id=\"Metric-functions-2.2\">Metric functions</a></span><ul class=\"toc-item\"><li><span><a href=\"#Gaze-data\" data-toc-modified-id=\"Gaze-data-2.2.1\">Gaze data</a></span></li><li><span><a href=\"#Fixation-data\" data-toc-modified-id=\"Fixation-data-2.2.2\">Fixation data</a></span></li><li><span><a href=\"#Event-data\" data-toc-modified-id=\"Event-data-2.2.3\">Event data</a></span></li></ul></li></ul></li><li><span><a href=\"#Analysis\" data-toc-modified-id=\"Analysis-3\">Analysis</a></span><ul class=\"toc-item\"><li><span><a href=\"#Baseline-Analysis\" data-toc-modified-id=\"Baseline-Analysis-3.1\">Baseline Analysis</a></span></li><li><span><a href=\"#FXD-Analysis\" data-toc-modified-id=\"FXD-Analysis-3.2\">FXD Analysis</a></span></li><li><span><a href=\"#EVD-Analysis\" data-toc-modified-id=\"EVD-Analysis-3.3\">EVD Analysis</a></span></li><li><span><a href=\"#GZD-Analysis\" data-toc-modified-id=\"GZD-Analysis-3.4\">GZD Analysis</a></span></li></ul></li></ul></div>"
   ]
  },
  {
   "cell_type": "markdown",
   "id": "bd8956b7",
   "metadata": {},
   "source": [
    "<h1>Eye Gaze Data Processing<span class=\"tocSkip\"></span></h1>"
   ]
  },
  {
   "cell_type": "markdown",
   "id": "2646cdc0",
   "metadata": {},
   "source": [
    "Following metrics from: https://github.com/TheD2Lab/Eye.Tracking.Data.Analysis.For.Tobii.2150/tree/master/src/analysis"
   ]
  },
  {
   "cell_type": "markdown",
   "id": "f9b700e4",
   "metadata": {},
   "source": [
    "- Isaac Cortes\n",
    "- Reynaldo Suarez\n",
    "- Chris\n",
    "- Janki"
   ]
  },
  {
   "cell_type": "code",
   "execution_count": 1,
   "id": "3321a6a4",
   "metadata": {},
   "outputs": [],
   "source": [
    "import pandas as pd\n",
    "import numpy as np\n",
    "import random \n",
    "import math"
   ]
  },
  {
   "cell_type": "markdown",
   "id": "a40d49cb",
   "metadata": {},
   "source": [
    "# Preparation"
   ]
  },
  {
   "cell_type": "markdown",
   "id": "f67e48ca",
   "metadata": {},
   "source": [
    "## Load files"
   ]
  },
  {
   "cell_type": "code",
   "execution_count": 2,
   "id": "73947a36",
   "metadata": {},
   "outputs": [],
   "source": [
    "def load_files(participant = 1):\n",
    "    \n",
    "    route = f'datasets/p{participant}/p{participant}'\n",
    "    \n",
    "    # Load one of the files to create functions\n",
    "    baseline_cols = ['number', 'time', 'l_screen_x', 'l_screen_y', 'l_cam_x', 'l_cam_y', 'l_distance', \n",
    "                'l_pupil', 'l_code', 'r_screen_x', 'r_screen_y', 'r_cam_x', 'r_cam_y', 'r_distance', \n",
    "                'r_pupil', 'r_code']\n",
    "\n",
    "    baseline = pd.read_csv(f'{route}GZD.txt', sep='\\t', names = baseline_cols)\n",
    "    \n",
    "    # Load FXD graph and tree\n",
    "    fxd_cols = ['number', 'time', 'duration', 'screen_x', 'screen_y']\n",
    "\n",
    "    fxd_graph = pd.read_csv(f'{route}.graphFXD.txt', sep='\\t', names = fxd_cols)\n",
    "    fxd_tree = pd.read_csv(f'{route}.treeFXD.txt', sep='\\t', names = fxd_cols)\n",
    "\n",
    "    # Load EVD graph and tree\n",
    "    evd_cols = ['time', 'event', 'event_key', 'data1', 'data2', 'description']\n",
    "\n",
    "    evd_graph = pd.read_csv(f'{route}.graphEVD.txt', sep='\\t', names = evd_cols)\n",
    "    evd_tree = pd.read_csv(f'{route}.treeEVD.txt', sep='\\t', names = evd_cols)\n",
    "    \n",
    "    # Load GZD graph and tree\n",
    "    gzd_cols = ['number', 'time', 'l_screen_x', 'l_screen_y', 'l_cam_x', 'l_cam_y', 'l_distance', \n",
    "                'l_pupil', 'l_code', 'r_screen_x', 'r_screen_y', 'r_cam_x', 'r_cam_y', 'r_distance', \n",
    "                'r_pupil', 'r_code']\n",
    "\n",
    "    gzd_graph = pd.read_csv(f'{route}.graphGZD.txt', sep='\\t', names = gzd_cols)\n",
    "    gzd_tree = pd.read_csv(f'{route}.treeGZD.txt', sep='\\t', names = gzd_cols)\n",
    "\n",
    "    return baseline, fxd_graph, fxd_tree, evd_graph, evd_tree, gzd_graph, gzd_tree\n"
   ]
  },
  {
   "cell_type": "code",
   "execution_count": 3,
   "id": "e05aa218",
   "metadata": {},
   "outputs": [
    {
     "name": "stdout",
     "output_type": "stream",
     "text": [
      "Participant: 3\n"
     ]
    }
   ],
   "source": [
    "# TODO:\n",
    "# Not all numbers 1-36 are participants in folder, use random choose instead with the folder contents\n",
    "participant = random.randint(1,36)\n",
    "print(f'Participant: {participant}')\n",
    "\n",
    "baseline, fxd_graph, fxd_tree, evd_graph, evd_tree, gzd_graph, gzd_tree = load_files(participant)"
   ]
  },
  {
   "cell_type": "markdown",
   "id": "c56f3ea6",
   "metadata": {},
   "source": [
    "# Functions"
   ]
  },
  {
   "cell_type": "markdown",
   "id": "c1c1b7c6",
   "metadata": {},
   "source": [
    "## Helper functions"
   ]
  },
  {
   "cell_type": "markdown",
   "id": "9e5657b6",
   "metadata": {},
   "source": [
    "$$d = \\sqrt{(x_2 - x_1)^2 + (y_2-y_1)^2}$$"
   ]
  },
  {
   "cell_type": "code",
   "execution_count": 4,
   "id": "838c6c25",
   "metadata": {},
   "outputs": [],
   "source": [
    "def distance(row):\n",
    "    x1, y1 = row['x'], row['y']\n",
    "    x2, y2 =  row['next_x'], row['next_y']\n",
    "    dist = math.sqrt(math.pow((x2-x1), 2) + math.pow((y2-y1), 2))\n",
    "    row['dist'] = dist\n",
    "    \n",
    "    return row"
   ]
  },
  {
   "cell_type": "markdown",
   "id": "ce5d745e",
   "metadata": {},
   "source": [
    "$$dur = T2-(T1+D1)$$"
   ]
  },
  {
   "cell_type": "code",
   "execution_count": 5,
   "id": "6c45dbe8",
   "metadata": {},
   "outputs": [],
   "source": [
    "def duration(row):\n",
    "    \n",
    "    t1, d1 = row['time'], row['duration']\n",
    "    t2 = row['next_time']\n",
    "    duration = t2 - (t1+d1)\n",
    "    row['duration_between_fixations'] = duration\n",
    "    \n",
    "    return row "
   ]
  },
  {
   "cell_type": "markdown",
   "id": "addde5ae",
   "metadata": {},
   "source": [
    "## Metric functions"
   ]
  },
  {
   "cell_type": "markdown",
   "id": "3a762acd",
   "metadata": {},
   "source": [
    "### Gaze data"
   ]
  },
  {
   "cell_type": "code",
   "execution_count": 6,
   "id": "1b358bd8",
   "metadata": {},
   "outputs": [],
   "source": [
    "def get_gaze_metrics(df):\n",
    "    \n",
    "    # A code with 0 indicates the eye tracker was confdident with this data\n",
    "    # Filtering only records where both pupil sizes are valid\n",
    "    df = df[(df['l_code'] == 0) & (df['r_code'] == 0)]\n",
    "    avg_size_left = df[\"l_pupil\"].mean()\n",
    "    avg_size_right = df[\"r_pupil\"].mean()\n",
    "    avg_size_both = pd.concat([df[\"r_pupil\"],df[\"l_pupil\"]]).mean()\n",
    "    \n",
    "    return avg_size_left, avg_size_right, avg_size_both"
   ]
  },
  {
   "cell_type": "code",
   "execution_count": 7,
   "id": "b08154e4",
   "metadata": {},
   "outputs": [],
   "source": [
    "def print_gaze_metrics(df):\n",
    "    avg_size_left, avg_size_right, avg_size_both = get_gaze_metrics(df)\n",
    "\n",
    "    print(f'Avg. pupil size of the left eye: {avg_size_left:.4f}')\n",
    "    print(f'Avg. pupil size of the right eye: {avg_size_right:.4f}')\n",
    "    print(f'Avg. pupil size of both eyes: {avg_size_both:.4f}')"
   ]
  },
  {
   "cell_type": "markdown",
   "id": "8cc0c526",
   "metadata": {},
   "source": [
    "### Fixation data"
   ]
  },
  {
   "cell_type": "code",
   "execution_count": 8,
   "id": "93859688",
   "metadata": {},
   "outputs": [],
   "source": [
    "def get_fixation_metrics(df):\n",
    "    \n",
    "    total_fixations = len(df)\n",
    "    sum_fixation_duration_sec = df[\"duration\"].sum() / 1000\n",
    "    mean_fixation_duration = df[\"duration\"].mean()\n",
    "    std_fixation_duration = df[\"duration\"].std()\n",
    "    \n",
    "    return total_fixations, sum_fixation_duration_sec, mean_fixation_duration, std_fixation_duration\n",
    "    \n",
    "def get_saccade_length_metrics(df):\n",
    "    \n",
    "    # Get distances of all points\n",
    "    coords = fxd_graph[['screen_x','screen_y']].copy()\n",
    "    coords = coords.rename({'screen_x':'x','screen_y':'y'}, axis='columns')\n",
    "    coords['next_x'] = coords['x'].shift(-1)\n",
    "    coords['next_y'] = coords['y'].shift(-1)\n",
    "    coords = coords.apply(distance, axis=1)\n",
    "    coords.dropna(inplace=True)\n",
    "    \n",
    "    total_saccades = len(coords)\n",
    "    sum_saccade_length = coords['dist'].sum()\n",
    "    mean_saccade_length = coords['dist'].mean()\n",
    "    std_saccade_length = coords['dist'].std()\n",
    "        \n",
    "    return total_saccades, sum_saccade_length, mean_saccade_length, std_saccade_length\n",
    "\n",
    "def get_saccade_durations_metrics(df):\n",
    "    \n",
    "    # Get duration of all saccades\n",
    "    saccadeDetails = fxd_graph[['time','duration']].copy()\n",
    "    saccadeDetails['next_time'] = saccadeDetails['time'].shift(-1)\n",
    "    saccadeDetails['next_duration'] = saccadeDetails['duration'].shift(-1)\n",
    "    saccadeDetails = saccadeDetails.apply(duration, axis=1)\n",
    "    saccadeDetails.dropna(inplace=True)\n",
    "    \n",
    "    sum_saccade_duration_sec = saccadeDetails['duration_between_fixations'].sum() / 1000\n",
    "    mean_saccade_duration = saccadeDetails['duration_between_fixations'].mean()\n",
    "    std_saccade_duration = saccadeDetails['duration_between_fixations'].std()\n",
    "    \n",
    "    return sum_saccade_duration_sec, mean_saccade_duration, std_saccade_duration"
   ]
  },
  {
   "cell_type": "code",
   "execution_count": 9,
   "id": "4dc1ae34",
   "metadata": {},
   "outputs": [],
   "source": [
    "def print_fixation_metrics(df):\n",
    "    # Fixations\n",
    "    total_fixations, sum_fixation_duration_sec, mean_fixation_duration, std_fixation_duration = get_fixation_metrics(df)\n",
    "    title = 'Fixations'\n",
    "    print(f'{\"=\"*10} {title:^20} {\"=\"*10}')\n",
    "    print(f'Total number of fixations: {total_fixations}')\n",
    "    print(f'Sum of all fixation durations: {sum_fixation_duration_sec}s')\n",
    "    print(f'Sum of all fixation durations: {sum_fixation_duration_sec / 60 :.2f}min')\n",
    "    print(f'Mean fixation duration: {mean_fixation_duration:.2f}ms')\n",
    "    print(f'StDev fixation duration: {std_fixation_duration:.2f}ms')\n",
    "\n",
    "    # Saccade \n",
    "    total_saccades, sum_saccade_length, mean_saccade_length, std_saccade_length = get_saccade_length_metrics(df)\n",
    "    title = 'Saccade lenghts'\n",
    "    print(f'\\n{\"=\"*10} {title:^20} {\"=\"*10}')\n",
    "    print(f'Total number of saccades: {total_saccades}')\n",
    "    print(f'Sum of all saccade lengths: {sum_saccade_length:.2f}px')\n",
    "    print(f'Mean saccade length: {mean_saccade_length:.2f}px')\n",
    "    print(f'StDev saccade length: {std_saccade_length:.2f}px')\n",
    "\n",
    "    # Durations\n",
    "    sum_saccade_duration_sec, mean_saccade_duration, std_saccade_duration = get_saccade_durations_metrics(df)\n",
    "    title = 'Saccade durations'\n",
    "    print(f'\\n{\"=\"*10} {title:^20} {\"=\"*10}')\n",
    "    print(f'Sum of all saccade durations: {sum_saccade_duration_sec:.2f}s')\n",
    "    print(f'Sum of all saccade durations: {sum_saccade_duration_sec / 60 :.2f}min')\n",
    "    print(f'Mean saccade duration: {mean_saccade_duration:.2f}ms')\n",
    "    print(f'StDev saccade duration: {std_saccade_duration:.2f}ms')"
   ]
  },
  {
   "cell_type": "markdown",
   "id": "68c805e0",
   "metadata": {},
   "source": [
    "### Event data"
   ]
  },
  {
   "cell_type": "code",
   "execution_count": 10,
   "id": "b03a9a9c",
   "metadata": {},
   "outputs": [],
   "source": [
    "def get_event_metrics(df):\n",
    "    \n",
    "    lclicks = evd_graph[evd_graph['event'] == 'LMouseButton']\n",
    "    lclicks = lclicks[['time','data1','data2']]\n",
    "    lclicks['next_time'] = lclicks['time'].shift(-1)\n",
    "    lclicks['time_between'] = lclicks['next_time'] - lclicks['time']\n",
    "    lclicks.dropna(inplace=True)\n",
    "\n",
    "    total_L_clicks = len(lclicks)\n",
    "    avg_time_between_clicks_sec = lclicks['time_between'].mean() / 1000\n",
    "    std_time_between_clicks_sec = lclicks['time_between'].std() / 1000\n",
    "    \n",
    "    return total_L_clicks, avg_time_between_clicks_sec, std_time_between_clicks_sec"
   ]
  },
  {
   "cell_type": "code",
   "execution_count": 11,
   "id": "09bd03b7",
   "metadata": {},
   "outputs": [],
   "source": [
    "def print_event_metrics(df):\n",
    "    \n",
    "    total_L_clicks, avg_time_between_clicks_sec, std_time_between_clicks_sec = get_event_metrics(df)\n",
    "    \n",
    "    print(f'Total number of L mouse clicks: {total_L_clicks}')\n",
    "    print(f'Avg. amount of time between clicks: {avg_time_between_clicks_sec:.2f}s')\n",
    "    print(f'StDev amount of time between clicks: {std_time_between_clicks_sec:.2f}s')"
   ]
  },
  {
   "cell_type": "markdown",
   "id": "e55860b5",
   "metadata": {},
   "source": [
    "# Analysis"
   ]
  },
  {
   "cell_type": "markdown",
   "id": "1278409b",
   "metadata": {},
   "source": [
    "## Baseline Analysis"
   ]
  },
  {
   "cell_type": "markdown",
   "id": "2076f8ce",
   "metadata": {},
   "source": [
    "- average pupil size of left eye; \n",
    "- average pupil size of right eye; \n",
    "- average pupil size of both eyes."
   ]
  },
  {
   "cell_type": "code",
   "execution_count": 12,
   "id": "b6a84d40",
   "metadata": {},
   "outputs": [
    {
     "data": {
      "text/html": [
       "<div>\n",
       "<style scoped>\n",
       "    .dataframe tbody tr th:only-of-type {\n",
       "        vertical-align: middle;\n",
       "    }\n",
       "\n",
       "    .dataframe tbody tr th {\n",
       "        vertical-align: top;\n",
       "    }\n",
       "\n",
       "    .dataframe thead th {\n",
       "        text-align: right;\n",
       "    }\n",
       "</style>\n",
       "<table border=\"1\" class=\"dataframe\">\n",
       "  <thead>\n",
       "    <tr style=\"text-align: right;\">\n",
       "      <th></th>\n",
       "      <th>number</th>\n",
       "      <th>time</th>\n",
       "      <th>l_screen_x</th>\n",
       "      <th>l_screen_y</th>\n",
       "      <th>l_cam_x</th>\n",
       "      <th>l_cam_y</th>\n",
       "      <th>l_distance</th>\n",
       "      <th>l_pupil</th>\n",
       "      <th>l_code</th>\n",
       "      <th>r_screen_x</th>\n",
       "      <th>r_screen_y</th>\n",
       "      <th>r_cam_x</th>\n",
       "      <th>r_cam_y</th>\n",
       "      <th>r_distance</th>\n",
       "      <th>r_pupil</th>\n",
       "      <th>r_code</th>\n",
       "    </tr>\n",
       "  </thead>\n",
       "  <tbody>\n",
       "    <tr>\n",
       "      <th>0</th>\n",
       "      <td>19</td>\n",
       "      <td>1</td>\n",
       "      <td>-1280</td>\n",
       "      <td>-1024</td>\n",
       "      <td>0.695</td>\n",
       "      <td>0.541</td>\n",
       "      <td>-1.000</td>\n",
       "      <td>-1.000</td>\n",
       "      <td>4</td>\n",
       "      <td>-1280</td>\n",
       "      <td>-1024</td>\n",
       "      <td>0.462</td>\n",
       "      <td>0.564</td>\n",
       "      <td>-1.000</td>\n",
       "      <td>-1.000</td>\n",
       "      <td>4</td>\n",
       "    </tr>\n",
       "    <tr>\n",
       "      <th>1</th>\n",
       "      <td>39</td>\n",
       "      <td>2</td>\n",
       "      <td>694</td>\n",
       "      <td>502</td>\n",
       "      <td>0.694</td>\n",
       "      <td>0.541</td>\n",
       "      <td>706.735</td>\n",
       "      <td>3.223</td>\n",
       "      <td>0</td>\n",
       "      <td>703</td>\n",
       "      <td>493</td>\n",
       "      <td>0.461</td>\n",
       "      <td>0.565</td>\n",
       "      <td>708.977</td>\n",
       "      <td>3.253</td>\n",
       "      <td>0</td>\n",
       "    </tr>\n",
       "    <tr>\n",
       "      <th>2</th>\n",
       "      <td>59</td>\n",
       "      <td>3</td>\n",
       "      <td>682</td>\n",
       "      <td>484</td>\n",
       "      <td>0.694</td>\n",
       "      <td>0.541</td>\n",
       "      <td>706.735</td>\n",
       "      <td>3.153</td>\n",
       "      <td>0</td>\n",
       "      <td>684</td>\n",
       "      <td>487</td>\n",
       "      <td>0.462</td>\n",
       "      <td>0.565</td>\n",
       "      <td>708.977</td>\n",
       "      <td>3.267</td>\n",
       "      <td>0</td>\n",
       "    </tr>\n",
       "    <tr>\n",
       "      <th>3</th>\n",
       "      <td>79</td>\n",
       "      <td>4</td>\n",
       "      <td>487</td>\n",
       "      <td>501</td>\n",
       "      <td>0.697</td>\n",
       "      <td>0.541</td>\n",
       "      <td>706.735</td>\n",
       "      <td>3.185</td>\n",
       "      <td>0</td>\n",
       "      <td>450</td>\n",
       "      <td>474</td>\n",
       "      <td>0.465</td>\n",
       "      <td>0.564</td>\n",
       "      <td>708.977</td>\n",
       "      <td>3.336</td>\n",
       "      <td>0</td>\n",
       "    </tr>\n",
       "    <tr>\n",
       "      <th>4</th>\n",
       "      <td>99</td>\n",
       "      <td>5</td>\n",
       "      <td>450</td>\n",
       "      <td>489</td>\n",
       "      <td>0.698</td>\n",
       "      <td>0.541</td>\n",
       "      <td>706.735</td>\n",
       "      <td>3.188</td>\n",
       "      <td>0</td>\n",
       "      <td>444</td>\n",
       "      <td>488</td>\n",
       "      <td>0.466</td>\n",
       "      <td>0.564</td>\n",
       "      <td>708.977</td>\n",
       "      <td>3.296</td>\n",
       "      <td>0</td>\n",
       "    </tr>\n",
       "  </tbody>\n",
       "</table>\n",
       "</div>"
      ],
      "text/plain": [
       "   number  time  l_screen_x  l_screen_y  l_cam_x  l_cam_y  l_distance  \\\n",
       "0      19     1       -1280       -1024    0.695    0.541      -1.000   \n",
       "1      39     2         694         502    0.694    0.541     706.735   \n",
       "2      59     3         682         484    0.694    0.541     706.735   \n",
       "3      79     4         487         501    0.697    0.541     706.735   \n",
       "4      99     5         450         489    0.698    0.541     706.735   \n",
       "\n",
       "   l_pupil  l_code  r_screen_x  r_screen_y  r_cam_x  r_cam_y  r_distance  \\\n",
       "0   -1.000       4       -1280       -1024    0.462    0.564      -1.000   \n",
       "1    3.223       0         703         493    0.461    0.565     708.977   \n",
       "2    3.153       0         684         487    0.462    0.565     708.977   \n",
       "3    3.185       0         450         474    0.465    0.564     708.977   \n",
       "4    3.188       0         444         488    0.466    0.564     708.977   \n",
       "\n",
       "   r_pupil  r_code  \n",
       "0   -1.000       4  \n",
       "1    3.253       0  \n",
       "2    3.267       0  \n",
       "3    3.336       0  \n",
       "4    3.296       0  "
      ]
     },
     "execution_count": 12,
     "metadata": {},
     "output_type": "execute_result"
    }
   ],
   "source": [
    "baseline.head()"
   ]
  },
  {
   "cell_type": "code",
   "execution_count": 13,
   "id": "abd31faa",
   "metadata": {},
   "outputs": [
    {
     "name": "stdout",
     "output_type": "stream",
     "text": [
      "Avg. pupil size of the left eye: 2.9700\n",
      "Avg. pupil size of the right eye: 3.0529\n",
      "Avg. pupil size of both eyes: 3.0114\n"
     ]
    }
   ],
   "source": [
    "print_gaze_metrics(baseline)"
   ]
  },
  {
   "cell_type": "markdown",
   "id": "42b5d32f",
   "metadata": {},
   "source": [
    "## FXD Analysis"
   ]
  },
  {
   "cell_type": "markdown",
   "id": "0e192f2d",
   "metadata": {},
   "source": [
    "**Fixations**\n",
    "- total number of fixations\n",
    "- sum of all fixation duration\n",
    "- mean duration\n",
    "- StDev of durations\n",
    "\n",
    "**Saccade lengths**\n",
    "- total number of saccades\n",
    "- sum of all saccade length\n",
    "- mean saccade length\n",
    "- StDev of saccade lengths\n",
    "\n",
    "**Saccade durations**\n",
    "- sum of all saccade durations\n",
    "- mean saccade duration\n",
    "- StDev of saccade durations\n",
    "\n",
    "**Research**\n",
    "- scanpath duration\n",
    "- fixation to saccade ratio"
   ]
  },
  {
   "cell_type": "code",
   "execution_count": 14,
   "id": "b1ab24dd",
   "metadata": {
    "scrolled": false
   },
   "outputs": [
    {
     "data": {
      "text/html": [
       "<div>\n",
       "<style scoped>\n",
       "    .dataframe tbody tr th:only-of-type {\n",
       "        vertical-align: middle;\n",
       "    }\n",
       "\n",
       "    .dataframe tbody tr th {\n",
       "        vertical-align: top;\n",
       "    }\n",
       "\n",
       "    .dataframe thead th {\n",
       "        text-align: right;\n",
       "    }\n",
       "</style>\n",
       "<table border=\"1\" class=\"dataframe\">\n",
       "  <thead>\n",
       "    <tr style=\"text-align: right;\">\n",
       "      <th></th>\n",
       "      <th>number</th>\n",
       "      <th>time</th>\n",
       "      <th>duration</th>\n",
       "      <th>screen_x</th>\n",
       "      <th>screen_y</th>\n",
       "    </tr>\n",
       "  </thead>\n",
       "  <tbody>\n",
       "    <tr>\n",
       "      <th>0</th>\n",
       "      <td>1</td>\n",
       "      <td>53</td>\n",
       "      <td>100</td>\n",
       "      <td>297</td>\n",
       "      <td>397</td>\n",
       "    </tr>\n",
       "    <tr>\n",
       "      <th>1</th>\n",
       "      <td>2</td>\n",
       "      <td>192</td>\n",
       "      <td>180</td>\n",
       "      <td>602</td>\n",
       "      <td>551</td>\n",
       "    </tr>\n",
       "    <tr>\n",
       "      <th>2</th>\n",
       "      <td>3</td>\n",
       "      <td>392</td>\n",
       "      <td>120</td>\n",
       "      <td>604</td>\n",
       "      <td>536</td>\n",
       "    </tr>\n",
       "    <tr>\n",
       "      <th>3</th>\n",
       "      <td>4</td>\n",
       "      <td>551</td>\n",
       "      <td>100</td>\n",
       "      <td>638</td>\n",
       "      <td>512</td>\n",
       "    </tr>\n",
       "    <tr>\n",
       "      <th>4</th>\n",
       "      <td>5</td>\n",
       "      <td>731</td>\n",
       "      <td>299</td>\n",
       "      <td>306</td>\n",
       "      <td>876</td>\n",
       "    </tr>\n",
       "  </tbody>\n",
       "</table>\n",
       "</div>"
      ],
      "text/plain": [
       "   number  time  duration  screen_x  screen_y\n",
       "0       1    53       100       297       397\n",
       "1       2   192       180       602       551\n",
       "2       3   392       120       604       536\n",
       "3       4   551       100       638       512\n",
       "4       5   731       299       306       876"
      ]
     },
     "execution_count": 14,
     "metadata": {},
     "output_type": "execute_result"
    }
   ],
   "source": [
    "fxd_graph.head()"
   ]
  },
  {
   "cell_type": "code",
   "execution_count": 15,
   "id": "2012e979",
   "metadata": {},
   "outputs": [
    {
     "name": "stdout",
     "output_type": "stream",
     "text": [
      "==========      Fixations       ==========\n",
      "Total number of fixations: 7967\n",
      "Sum of all fixation durations: 2462.609s\n",
      "Sum of all fixation durations: 41.04min\n",
      "Mean fixation duration: 309.10ms\n",
      "StDev fixation duration: 249.35ms\n",
      "\n",
      "==========   Saccade lenghts    ==========\n",
      "Total number of saccades: 7966\n",
      "Sum of all saccade lengths: 976608.46px\n",
      "Mean saccade length: 122.60px\n",
      "StDev saccade length: 160.17px\n",
      "\n",
      "==========  Saccade durations   ==========\n",
      "Sum of all saccade durations: 553.67s\n",
      "Sum of all saccade durations: 9.23min\n",
      "Mean saccade duration: 69.50ms\n",
      "StDev saccade duration: 96.29ms\n"
     ]
    }
   ],
   "source": [
    "print_fixation_metrics(fxd_graph)"
   ]
  },
  {
   "cell_type": "code",
   "execution_count": 16,
   "id": "8728a1ff",
   "metadata": {},
   "outputs": [
    {
     "data": {
      "text/html": [
       "<div>\n",
       "<style scoped>\n",
       "    .dataframe tbody tr th:only-of-type {\n",
       "        vertical-align: middle;\n",
       "    }\n",
       "\n",
       "    .dataframe tbody tr th {\n",
       "        vertical-align: top;\n",
       "    }\n",
       "\n",
       "    .dataframe thead th {\n",
       "        text-align: right;\n",
       "    }\n",
       "</style>\n",
       "<table border=\"1\" class=\"dataframe\">\n",
       "  <thead>\n",
       "    <tr style=\"text-align: right;\">\n",
       "      <th></th>\n",
       "      <th>number</th>\n",
       "      <th>time</th>\n",
       "      <th>duration</th>\n",
       "      <th>screen_x</th>\n",
       "      <th>screen_y</th>\n",
       "    </tr>\n",
       "  </thead>\n",
       "  <tbody>\n",
       "    <tr>\n",
       "      <th>0</th>\n",
       "      <td>1</td>\n",
       "      <td>58</td>\n",
       "      <td>180</td>\n",
       "      <td>690</td>\n",
       "      <td>585</td>\n",
       "    </tr>\n",
       "    <tr>\n",
       "      <th>1</th>\n",
       "      <td>2</td>\n",
       "      <td>257</td>\n",
       "      <td>359</td>\n",
       "      <td>702</td>\n",
       "      <td>490</td>\n",
       "    </tr>\n",
       "    <tr>\n",
       "      <th>2</th>\n",
       "      <td>3</td>\n",
       "      <td>735</td>\n",
       "      <td>180</td>\n",
       "      <td>751</td>\n",
       "      <td>144</td>\n",
       "    </tr>\n",
       "    <tr>\n",
       "      <th>3</th>\n",
       "      <td>4</td>\n",
       "      <td>955</td>\n",
       "      <td>259</td>\n",
       "      <td>860</td>\n",
       "      <td>60</td>\n",
       "    </tr>\n",
       "    <tr>\n",
       "      <th>4</th>\n",
       "      <td>5</td>\n",
       "      <td>1234</td>\n",
       "      <td>319</td>\n",
       "      <td>547</td>\n",
       "      <td>251</td>\n",
       "    </tr>\n",
       "  </tbody>\n",
       "</table>\n",
       "</div>"
      ],
      "text/plain": [
       "   number  time  duration  screen_x  screen_y\n",
       "0       1    58       180       690       585\n",
       "1       2   257       359       702       490\n",
       "2       3   735       180       751       144\n",
       "3       4   955       259       860        60\n",
       "4       5  1234       319       547       251"
      ]
     },
     "execution_count": 16,
     "metadata": {},
     "output_type": "execute_result"
    }
   ],
   "source": [
    "fxd_tree.head()"
   ]
  },
  {
   "cell_type": "code",
   "execution_count": 17,
   "id": "738946bb",
   "metadata": {},
   "outputs": [
    {
     "name": "stdout",
     "output_type": "stream",
     "text": [
      "==========      Fixations       ==========\n",
      "Total number of fixations: 1564\n",
      "Sum of all fixation durations: 515.632s\n",
      "Sum of all fixation durations: 8.59min\n",
      "Mean fixation duration: 329.69ms\n",
      "StDev fixation duration: 275.84ms\n",
      "\n",
      "==========   Saccade lenghts    ==========\n",
      "Total number of saccades: 7966\n",
      "Sum of all saccade lengths: 976608.46px\n",
      "Mean saccade length: 122.60px\n",
      "StDev saccade length: 160.17px\n",
      "\n",
      "==========  Saccade durations   ==========\n",
      "Sum of all saccade durations: 553.67s\n",
      "Sum of all saccade durations: 9.23min\n",
      "Mean saccade duration: 69.50ms\n",
      "StDev saccade duration: 96.29ms\n"
     ]
    }
   ],
   "source": [
    "print_fixation_metrics(fxd_tree)"
   ]
  },
  {
   "cell_type": "markdown",
   "id": "f076c198",
   "metadata": {},
   "source": [
    "## EVD Analysis"
   ]
  },
  {
   "cell_type": "markdown",
   "id": "aea0364f",
   "metadata": {},
   "source": [
    "- total number of L mouse clicks. \n",
    "- avg time between clicks.\n",
    "- std time between clicks."
   ]
  },
  {
   "cell_type": "code",
   "execution_count": 18,
   "id": "9ce910df",
   "metadata": {},
   "outputs": [
    {
     "data": {
      "text/html": [
       "<div>\n",
       "<style scoped>\n",
       "    .dataframe tbody tr th:only-of-type {\n",
       "        vertical-align: middle;\n",
       "    }\n",
       "\n",
       "    .dataframe tbody tr th {\n",
       "        vertical-align: top;\n",
       "    }\n",
       "\n",
       "    .dataframe thead th {\n",
       "        text-align: right;\n",
       "    }\n",
       "</style>\n",
       "<table border=\"1\" class=\"dataframe\">\n",
       "  <thead>\n",
       "    <tr style=\"text-align: right;\">\n",
       "      <th></th>\n",
       "      <th>time</th>\n",
       "      <th>event</th>\n",
       "      <th>event_key</th>\n",
       "      <th>data1</th>\n",
       "      <th>data2</th>\n",
       "      <th>description</th>\n",
       "    </tr>\n",
       "  </thead>\n",
       "  <tbody>\n",
       "    <tr>\n",
       "      <th>0</th>\n",
       "      <td>12566</td>\n",
       "      <td>LMouseButton</td>\n",
       "      <td>1</td>\n",
       "      <td>259</td>\n",
       "      <td>888</td>\n",
       "      <td>NaN</td>\n",
       "    </tr>\n",
       "    <tr>\n",
       "      <th>1</th>\n",
       "      <td>14579</td>\n",
       "      <td>LMouseButton</td>\n",
       "      <td>1</td>\n",
       "      <td>178</td>\n",
       "      <td>857</td>\n",
       "      <td>NaN</td>\n",
       "    </tr>\n",
       "    <tr>\n",
       "      <th>2</th>\n",
       "      <td>16642</td>\n",
       "      <td>LMouseButton</td>\n",
       "      <td>1</td>\n",
       "      <td>108</td>\n",
       "      <td>573</td>\n",
       "      <td>NaN</td>\n",
       "    </tr>\n",
       "    <tr>\n",
       "      <th>3</th>\n",
       "      <td>18675</td>\n",
       "      <td>LMouseButton</td>\n",
       "      <td>1</td>\n",
       "      <td>108</td>\n",
       "      <td>575</td>\n",
       "      <td>NaN</td>\n",
       "    </tr>\n",
       "    <tr>\n",
       "      <th>4</th>\n",
       "      <td>27753</td>\n",
       "      <td>LMouseButton</td>\n",
       "      <td>1</td>\n",
       "      <td>906</td>\n",
       "      <td>939</td>\n",
       "      <td>NaN</td>\n",
       "    </tr>\n",
       "  </tbody>\n",
       "</table>\n",
       "</div>"
      ],
      "text/plain": [
       "    time         event  event_key  data1  data2 description\n",
       "0  12566  LMouseButton          1    259    888         NaN\n",
       "1  14579  LMouseButton          1    178    857         NaN\n",
       "2  16642  LMouseButton          1    108    573         NaN\n",
       "3  18675  LMouseButton          1    108    575         NaN\n",
       "4  27753  LMouseButton          1    906    939         NaN"
      ]
     },
     "execution_count": 18,
     "metadata": {},
     "output_type": "execute_result"
    }
   ],
   "source": [
    "evd_graph.head()"
   ]
  },
  {
   "cell_type": "code",
   "execution_count": 19,
   "id": "ef2d61aa",
   "metadata": {},
   "outputs": [
    {
     "name": "stdout",
     "output_type": "stream",
     "text": [
      "Total number of L mouse clicks: 890\n",
      "Avg. amount of time between clicks: 3.37s\n",
      "StDev amount of time between clicks: 4.05s\n"
     ]
    }
   ],
   "source": [
    "print_event_metrics(evd_graph)"
   ]
  },
  {
   "cell_type": "code",
   "execution_count": 20,
   "id": "01245a29",
   "metadata": {},
   "outputs": [
    {
     "data": {
      "text/html": [
       "<div>\n",
       "<style scoped>\n",
       "    .dataframe tbody tr th:only-of-type {\n",
       "        vertical-align: middle;\n",
       "    }\n",
       "\n",
       "    .dataframe tbody tr th {\n",
       "        vertical-align: top;\n",
       "    }\n",
       "\n",
       "    .dataframe thead th {\n",
       "        text-align: right;\n",
       "    }\n",
       "</style>\n",
       "<table border=\"1\" class=\"dataframe\">\n",
       "  <thead>\n",
       "    <tr style=\"text-align: right;\">\n",
       "      <th></th>\n",
       "      <th>time</th>\n",
       "      <th>event</th>\n",
       "      <th>event_key</th>\n",
       "      <th>data1</th>\n",
       "      <th>data2</th>\n",
       "      <th>description</th>\n",
       "    </tr>\n",
       "  </thead>\n",
       "  <tbody>\n",
       "    <tr>\n",
       "      <th>0</th>\n",
       "      <td>810</td>\n",
       "      <td>LMouseButton</td>\n",
       "      <td>1</td>\n",
       "      <td>888</td>\n",
       "      <td>26</td>\n",
       "      <td>NaN</td>\n",
       "    </tr>\n",
       "    <tr>\n",
       "      <th>1</th>\n",
       "      <td>16159</td>\n",
       "      <td>LMouseButton</td>\n",
       "      <td>1</td>\n",
       "      <td>62</td>\n",
       "      <td>535</td>\n",
       "      <td>NaN</td>\n",
       "    </tr>\n",
       "    <tr>\n",
       "      <th>2</th>\n",
       "      <td>22997</td>\n",
       "      <td>LMouseButton</td>\n",
       "      <td>1</td>\n",
       "      <td>41</td>\n",
       "      <td>547</td>\n",
       "      <td>NaN</td>\n",
       "    </tr>\n",
       "    <tr>\n",
       "      <th>3</th>\n",
       "      <td>27053</td>\n",
       "      <td>LMouseButton</td>\n",
       "      <td>1</td>\n",
       "      <td>37</td>\n",
       "      <td>545</td>\n",
       "      <td>NaN</td>\n",
       "    </tr>\n",
       "    <tr>\n",
       "      <th>4</th>\n",
       "      <td>35136</td>\n",
       "      <td>LMouseButton</td>\n",
       "      <td>1</td>\n",
       "      <td>40</td>\n",
       "      <td>549</td>\n",
       "      <td>NaN</td>\n",
       "    </tr>\n",
       "  </tbody>\n",
       "</table>\n",
       "</div>"
      ],
      "text/plain": [
       "    time         event  event_key  data1  data2 description\n",
       "0    810  LMouseButton          1    888     26         NaN\n",
       "1  16159  LMouseButton          1     62    535         NaN\n",
       "2  22997  LMouseButton          1     41    547         NaN\n",
       "3  27053  LMouseButton          1     37    545         NaN\n",
       "4  35136  LMouseButton          1     40    549         NaN"
      ]
     },
     "execution_count": 20,
     "metadata": {},
     "output_type": "execute_result"
    }
   ],
   "source": [
    "evd_tree.head()"
   ]
  },
  {
   "cell_type": "code",
   "execution_count": 21,
   "id": "2594720c",
   "metadata": {},
   "outputs": [
    {
     "name": "stdout",
     "output_type": "stream",
     "text": [
      "Total number of L mouse clicks: 890\n",
      "Avg. amount of time between clicks: 3.37s\n",
      "StDev amount of time between clicks: 4.05s\n"
     ]
    }
   ],
   "source": [
    "print_event_metrics(evd_tree)"
   ]
  },
  {
   "cell_type": "markdown",
   "id": "a8939c56",
   "metadata": {},
   "source": [
    "## GZD Analysis"
   ]
  },
  {
   "cell_type": "markdown",
   "id": "a68ca18a",
   "metadata": {},
   "source": [
    "- average pupil size of left eye;\n",
    "- average pupil size of right eye;\n",
    "- average pupil size of both eyes."
   ]
  },
  {
   "cell_type": "code",
   "execution_count": 22,
   "id": "e8c19649",
   "metadata": {},
   "outputs": [
    {
     "data": {
      "text/html": [
       "<div>\n",
       "<style scoped>\n",
       "    .dataframe tbody tr th:only-of-type {\n",
       "        vertical-align: middle;\n",
       "    }\n",
       "\n",
       "    .dataframe tbody tr th {\n",
       "        vertical-align: top;\n",
       "    }\n",
       "\n",
       "    .dataframe thead th {\n",
       "        text-align: right;\n",
       "    }\n",
       "</style>\n",
       "<table border=\"1\" class=\"dataframe\">\n",
       "  <thead>\n",
       "    <tr style=\"text-align: right;\">\n",
       "      <th></th>\n",
       "      <th>number</th>\n",
       "      <th>time</th>\n",
       "      <th>l_screen_x</th>\n",
       "      <th>l_screen_y</th>\n",
       "      <th>l_cam_x</th>\n",
       "      <th>l_cam_y</th>\n",
       "      <th>l_distance</th>\n",
       "      <th>l_pupil</th>\n",
       "      <th>l_code</th>\n",
       "      <th>r_screen_x</th>\n",
       "      <th>r_screen_y</th>\n",
       "      <th>r_cam_x</th>\n",
       "      <th>r_cam_y</th>\n",
       "      <th>r_distance</th>\n",
       "      <th>r_pupil</th>\n",
       "      <th>r_code</th>\n",
       "    </tr>\n",
       "  </thead>\n",
       "  <tbody>\n",
       "    <tr>\n",
       "      <th>0</th>\n",
       "      <td>13</td>\n",
       "      <td>1</td>\n",
       "      <td>-1280</td>\n",
       "      <td>-1024</td>\n",
       "      <td>0.699</td>\n",
       "      <td>0.568</td>\n",
       "      <td>-1.000</td>\n",
       "      <td>-1.000</td>\n",
       "      <td>4</td>\n",
       "      <td>-1280</td>\n",
       "      <td>-1024</td>\n",
       "      <td>0.471</td>\n",
       "      <td>0.586</td>\n",
       "      <td>-1.00</td>\n",
       "      <td>-1.000</td>\n",
       "      <td>4</td>\n",
       "    </tr>\n",
       "    <tr>\n",
       "      <th>1</th>\n",
       "      <td>33</td>\n",
       "      <td>2</td>\n",
       "      <td>-1280</td>\n",
       "      <td>-1024</td>\n",
       "      <td>-1.000</td>\n",
       "      <td>-1.000</td>\n",
       "      <td>-1.000</td>\n",
       "      <td>-1.000</td>\n",
       "      <td>4</td>\n",
       "      <td>-1280</td>\n",
       "      <td>-1024</td>\n",
       "      <td>-1.000</td>\n",
       "      <td>-1.000</td>\n",
       "      <td>-1.00</td>\n",
       "      <td>-1.000</td>\n",
       "      <td>4</td>\n",
       "    </tr>\n",
       "    <tr>\n",
       "      <th>2</th>\n",
       "      <td>53</td>\n",
       "      <td>3</td>\n",
       "      <td>287</td>\n",
       "      <td>408</td>\n",
       "      <td>0.699</td>\n",
       "      <td>0.568</td>\n",
       "      <td>733.559</td>\n",
       "      <td>3.188</td>\n",
       "      <td>0</td>\n",
       "      <td>292</td>\n",
       "      <td>373</td>\n",
       "      <td>0.471</td>\n",
       "      <td>0.586</td>\n",
       "      <td>728.42</td>\n",
       "      <td>3.233</td>\n",
       "      <td>0</td>\n",
       "    </tr>\n",
       "    <tr>\n",
       "      <th>3</th>\n",
       "      <td>73</td>\n",
       "      <td>4</td>\n",
       "      <td>289</td>\n",
       "      <td>402</td>\n",
       "      <td>0.699</td>\n",
       "      <td>0.568</td>\n",
       "      <td>733.559</td>\n",
       "      <td>3.108</td>\n",
       "      <td>0</td>\n",
       "      <td>304</td>\n",
       "      <td>406</td>\n",
       "      <td>0.471</td>\n",
       "      <td>0.586</td>\n",
       "      <td>728.42</td>\n",
       "      <td>3.204</td>\n",
       "      <td>0</td>\n",
       "    </tr>\n",
       "    <tr>\n",
       "      <th>4</th>\n",
       "      <td>93</td>\n",
       "      <td>5</td>\n",
       "      <td>291</td>\n",
       "      <td>390</td>\n",
       "      <td>0.700</td>\n",
       "      <td>0.568</td>\n",
       "      <td>733.559</td>\n",
       "      <td>3.111</td>\n",
       "      <td>0</td>\n",
       "      <td>305</td>\n",
       "      <td>407</td>\n",
       "      <td>0.471</td>\n",
       "      <td>0.586</td>\n",
       "      <td>728.42</td>\n",
       "      <td>3.123</td>\n",
       "      <td>0</td>\n",
       "    </tr>\n",
       "  </tbody>\n",
       "</table>\n",
       "</div>"
      ],
      "text/plain": [
       "   number  time  l_screen_x  l_screen_y  l_cam_x  l_cam_y  l_distance  \\\n",
       "0      13     1       -1280       -1024    0.699    0.568      -1.000   \n",
       "1      33     2       -1280       -1024   -1.000   -1.000      -1.000   \n",
       "2      53     3         287         408    0.699    0.568     733.559   \n",
       "3      73     4         289         402    0.699    0.568     733.559   \n",
       "4      93     5         291         390    0.700    0.568     733.559   \n",
       "\n",
       "   l_pupil  l_code  r_screen_x  r_screen_y  r_cam_x  r_cam_y  r_distance  \\\n",
       "0   -1.000       4       -1280       -1024    0.471    0.586       -1.00   \n",
       "1   -1.000       4       -1280       -1024   -1.000   -1.000       -1.00   \n",
       "2    3.188       0         292         373    0.471    0.586      728.42   \n",
       "3    3.108       0         304         406    0.471    0.586      728.42   \n",
       "4    3.111       0         305         407    0.471    0.586      728.42   \n",
       "\n",
       "   r_pupil  r_code  \n",
       "0   -1.000       4  \n",
       "1   -1.000       4  \n",
       "2    3.233       0  \n",
       "3    3.204       0  \n",
       "4    3.123       0  "
      ]
     },
     "execution_count": 22,
     "metadata": {},
     "output_type": "execute_result"
    }
   ],
   "source": [
    "gzd_graph.head()"
   ]
  },
  {
   "cell_type": "code",
   "execution_count": 23,
   "id": "16e8aa3d",
   "metadata": {},
   "outputs": [
    {
     "name": "stdout",
     "output_type": "stream",
     "text": [
      "Avg. pupil size of the left eye: 3.1112\n",
      "Avg. pupil size of the right eye: 3.1696\n",
      "Avg. pupil size of both eyes: 3.1404\n"
     ]
    }
   ],
   "source": [
    "print_gaze_metrics(gzd_graph)"
   ]
  },
  {
   "cell_type": "code",
   "execution_count": 24,
   "id": "3af06cee",
   "metadata": {
    "scrolled": true
   },
   "outputs": [
    {
     "data": {
      "text/html": [
       "<div>\n",
       "<style scoped>\n",
       "    .dataframe tbody tr th:only-of-type {\n",
       "        vertical-align: middle;\n",
       "    }\n",
       "\n",
       "    .dataframe tbody tr th {\n",
       "        vertical-align: top;\n",
       "    }\n",
       "\n",
       "    .dataframe thead th {\n",
       "        text-align: right;\n",
       "    }\n",
       "</style>\n",
       "<table border=\"1\" class=\"dataframe\">\n",
       "  <thead>\n",
       "    <tr style=\"text-align: right;\">\n",
       "      <th></th>\n",
       "      <th>number</th>\n",
       "      <th>time</th>\n",
       "      <th>l_screen_x</th>\n",
       "      <th>l_screen_y</th>\n",
       "      <th>l_cam_x</th>\n",
       "      <th>l_cam_y</th>\n",
       "      <th>l_distance</th>\n",
       "      <th>l_pupil</th>\n",
       "      <th>l_code</th>\n",
       "      <th>r_screen_x</th>\n",
       "      <th>r_screen_y</th>\n",
       "      <th>r_cam_x</th>\n",
       "      <th>r_cam_y</th>\n",
       "      <th>r_distance</th>\n",
       "      <th>r_pupil</th>\n",
       "      <th>r_code</th>\n",
       "    </tr>\n",
       "  </thead>\n",
       "  <tbody>\n",
       "    <tr>\n",
       "      <th>0</th>\n",
       "      <td>18</td>\n",
       "      <td>1</td>\n",
       "      <td>-1280</td>\n",
       "      <td>-1024</td>\n",
       "      <td>0.689</td>\n",
       "      <td>0.607</td>\n",
       "      <td>-1.000</td>\n",
       "      <td>-1.000</td>\n",
       "      <td>4</td>\n",
       "      <td>-1280</td>\n",
       "      <td>-1024</td>\n",
       "      <td>0.462</td>\n",
       "      <td>0.628</td>\n",
       "      <td>-1.000</td>\n",
       "      <td>-1.000</td>\n",
       "      <td>4</td>\n",
       "    </tr>\n",
       "    <tr>\n",
       "      <th>1</th>\n",
       "      <td>38</td>\n",
       "      <td>2</td>\n",
       "      <td>-1280</td>\n",
       "      <td>-1024</td>\n",
       "      <td>-1.000</td>\n",
       "      <td>-1.000</td>\n",
       "      <td>-1.000</td>\n",
       "      <td>-1.000</td>\n",
       "      <td>4</td>\n",
       "      <td>-1280</td>\n",
       "      <td>-1024</td>\n",
       "      <td>-1.000</td>\n",
       "      <td>-1.000</td>\n",
       "      <td>-1.000</td>\n",
       "      <td>-1.000</td>\n",
       "      <td>4</td>\n",
       "    </tr>\n",
       "    <tr>\n",
       "      <th>2</th>\n",
       "      <td>58</td>\n",
       "      <td>3</td>\n",
       "      <td>690</td>\n",
       "      <td>598</td>\n",
       "      <td>0.689</td>\n",
       "      <td>0.607</td>\n",
       "      <td>730.478</td>\n",
       "      <td>3.196</td>\n",
       "      <td>0</td>\n",
       "      <td>702</td>\n",
       "      <td>587</td>\n",
       "      <td>0.463</td>\n",
       "      <td>0.628</td>\n",
       "      <td>729.819</td>\n",
       "      <td>3.262</td>\n",
       "      <td>0</td>\n",
       "    </tr>\n",
       "    <tr>\n",
       "      <th>3</th>\n",
       "      <td>78</td>\n",
       "      <td>4</td>\n",
       "      <td>670</td>\n",
       "      <td>571</td>\n",
       "      <td>0.690</td>\n",
       "      <td>0.607</td>\n",
       "      <td>730.478</td>\n",
       "      <td>3.223</td>\n",
       "      <td>0</td>\n",
       "      <td>700</td>\n",
       "      <td>587</td>\n",
       "      <td>0.463</td>\n",
       "      <td>0.628</td>\n",
       "      <td>729.819</td>\n",
       "      <td>3.266</td>\n",
       "      <td>0</td>\n",
       "    </tr>\n",
       "    <tr>\n",
       "      <th>4</th>\n",
       "      <td>98</td>\n",
       "      <td>5</td>\n",
       "      <td>675</td>\n",
       "      <td>592</td>\n",
       "      <td>0.690</td>\n",
       "      <td>0.607</td>\n",
       "      <td>730.478</td>\n",
       "      <td>3.202</td>\n",
       "      <td>0</td>\n",
       "      <td>699</td>\n",
       "      <td>586</td>\n",
       "      <td>0.463</td>\n",
       "      <td>0.628</td>\n",
       "      <td>729.819</td>\n",
       "      <td>3.243</td>\n",
       "      <td>0</td>\n",
       "    </tr>\n",
       "  </tbody>\n",
       "</table>\n",
       "</div>"
      ],
      "text/plain": [
       "   number  time  l_screen_x  l_screen_y  l_cam_x  l_cam_y  l_distance  \\\n",
       "0      18     1       -1280       -1024    0.689    0.607      -1.000   \n",
       "1      38     2       -1280       -1024   -1.000   -1.000      -1.000   \n",
       "2      58     3         690         598    0.689    0.607     730.478   \n",
       "3      78     4         670         571    0.690    0.607     730.478   \n",
       "4      98     5         675         592    0.690    0.607     730.478   \n",
       "\n",
       "   l_pupil  l_code  r_screen_x  r_screen_y  r_cam_x  r_cam_y  r_distance  \\\n",
       "0   -1.000       4       -1280       -1024    0.462    0.628      -1.000   \n",
       "1   -1.000       4       -1280       -1024   -1.000   -1.000      -1.000   \n",
       "2    3.196       0         702         587    0.463    0.628     729.819   \n",
       "3    3.223       0         700         587    0.463    0.628     729.819   \n",
       "4    3.202       0         699         586    0.463    0.628     729.819   \n",
       "\n",
       "   r_pupil  r_code  \n",
       "0   -1.000       4  \n",
       "1   -1.000       4  \n",
       "2    3.262       0  \n",
       "3    3.266       0  \n",
       "4    3.243       0  "
      ]
     },
     "execution_count": 24,
     "metadata": {},
     "output_type": "execute_result"
    }
   ],
   "source": [
    "gzd_tree.head()"
   ]
  },
  {
   "cell_type": "code",
   "execution_count": 25,
   "id": "2d8a3545",
   "metadata": {},
   "outputs": [
    {
     "name": "stdout",
     "output_type": "stream",
     "text": [
      "Avg. pupil size of the left eye: 3.1564\n",
      "Avg. pupil size of the right eye: 3.2201\n",
      "Avg. pupil size of both eyes: 3.1883\n"
     ]
    }
   ],
   "source": [
    "print_gaze_metrics(gzd_tree)"
   ]
  }
 ],
 "metadata": {
  "kernelspec": {
   "display_name": "Python 3",
   "language": "python",
   "name": "python3"
  },
  "language_info": {
   "codemirror_mode": {
    "name": "ipython",
    "version": 3
   },
   "file_extension": ".py",
   "mimetype": "text/x-python",
   "name": "python",
   "nbconvert_exporter": "python",
   "pygments_lexer": "ipython3",
   "version": "3.8.8"
  },
  "toc": {
   "base_numbering": 1,
   "nav_menu": {},
   "number_sections": false,
   "sideBar": true,
   "skip_h1_title": false,
   "title_cell": "Table of Contents",
   "title_sidebar": "Contents",
   "toc_cell": true,
   "toc_position": {
    "height": "calc(100% - 180px)",
    "left": "10px",
    "top": "150px",
    "width": "258.837px"
   },
   "toc_section_display": true,
   "toc_window_display": true
  },
  "varInspector": {
   "cols": {
    "lenName": 16,
    "lenType": 16,
    "lenVar": 40
   },
   "kernels_config": {
    "python": {
     "delete_cmd_postfix": "",
     "delete_cmd_prefix": "del ",
     "library": "var_list.py",
     "varRefreshCmd": "print(var_dic_list())"
    },
    "r": {
     "delete_cmd_postfix": ") ",
     "delete_cmd_prefix": "rm(",
     "library": "var_list.r",
     "varRefreshCmd": "cat(var_dic_list()) "
    }
   },
   "types_to_exclude": [
    "module",
    "function",
    "builtin_function_or_method",
    "instance",
    "_Feature"
   ],
   "window_display": false
  }
 },
 "nbformat": 4,
 "nbformat_minor": 5
}
