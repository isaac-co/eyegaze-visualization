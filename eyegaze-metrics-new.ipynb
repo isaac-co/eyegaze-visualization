{
 "cells": [
  {
   "cell_type": "markdown",
   "id": "b7145ac5",
   "metadata": {
    "toc": true
   },
   "source": [
    "<h1>Table of Contents<span class=\"tocSkip\"></span></h1>\n",
    "<div class=\"toc\"><ul class=\"toc-item\"><li><span><a href=\"#Preparation\" data-toc-modified-id=\"Preparation-1\">Preparation</a></span><ul class=\"toc-item\"><li><span><a href=\"#Load-files\" data-toc-modified-id=\"Load-files-1.1\">Load files</a></span></li></ul></li><li><span><a href=\"#Functions\" data-toc-modified-id=\"Functions-2\">Functions</a></span><ul class=\"toc-item\"><li><span><a href=\"#Helper-functions\" data-toc-modified-id=\"Helper-functions-2.1\">Helper functions</a></span></li><li><span><a href=\"#Metric-functions\" data-toc-modified-id=\"Metric-functions-2.2\">Metric functions</a></span><ul class=\"toc-item\"><li><span><a href=\"#All-metrics\" data-toc-modified-id=\"All-metrics-2.2.1\">All metrics</a></span></li><li><span><a href=\"#Gaze-data\" data-toc-modified-id=\"Gaze-data-2.2.2\">Gaze data</a></span></li><li><span><a href=\"#Fixation-data\" data-toc-modified-id=\"Fixation-data-2.2.3\">Fixation data</a></span></li><li><span><a href=\"#Event-data\" data-toc-modified-id=\"Event-data-2.2.4\">Event data</a></span></li></ul></li></ul></li><li><span><a href=\"#Testing-metrics\" data-toc-modified-id=\"Testing-metrics-3\">Testing metrics</a></span><ul class=\"toc-item\"><li><span><a href=\"#Baseline-Analysis\" data-toc-modified-id=\"Baseline-Analysis-3.1\">Baseline Analysis</a></span></li><li><span><a href=\"#FXD-Analysis\" data-toc-modified-id=\"FXD-Analysis-3.2\">FXD Analysis</a></span></li><li><span><a href=\"#EVD-Analysis\" data-toc-modified-id=\"EVD-Analysis-3.3\">EVD Analysis</a></span></li><li><span><a href=\"#GZD-Analysis\" data-toc-modified-id=\"GZD-Analysis-3.4\">GZD Analysis</a></span></li></ul></li><li><span><a href=\"#Transforming-data\" data-toc-modified-id=\"Transforming-data-4\">Transforming data</a></span><ul class=\"toc-item\"><li><span><a href=\"#Additional-data\" data-toc-modified-id=\"Additional-data-4.1\">Additional data</a></span><ul class=\"toc-item\"><li><span><a href=\"#Overview\" data-toc-modified-id=\"Overview-4.1.1\">Overview</a></span></li><li><span><a href=\"#Top-25%\" data-toc-modified-id=\"Top-25%-4.1.2\">Top 25%</a></span></li><li><span><a href=\"#Bottom-25%\" data-toc-modified-id=\"Bottom-25%-4.1.3\">Bottom 25%</a></span></li></ul></li></ul></li><li><span><a href=\"#Features-comparison\" data-toc-modified-id=\"Features-comparison-5\">Features comparison</a></span><ul class=\"toc-item\"><li><span><a href=\"#Correlation-analysis\" data-toc-modified-id=\"Correlation-analysis-5.1\">Correlation analysis</a></span><ul class=\"toc-item\"><li><span><a href=\"#Top-25%\" data-toc-modified-id=\"Top-25%-5.1.1\">Top 25%</a></span></li><li><span><a href=\"#Bottom-25%\" data-toc-modified-id=\"Bottom-25%-5.1.2\">Bottom 25%</a></span></li></ul></li><li><span><a href=\"#Correlation-plots\" data-toc-modified-id=\"Correlation-plots-5.2\">Correlation plots</a></span><ul class=\"toc-item\"><li><ul class=\"toc-item\"><li><span><a href=\"#Time-on-task\" data-toc-modified-id=\"Time-on-task-5.2.0.1\">Time on task</a></span></li><li><span><a href=\"#Total-fixations\" data-toc-modified-id=\"Total-fixations-5.2.0.2\">Total fixations</a></span></li><li><span><a href=\"#Mean-fixations-durations\" data-toc-modified-id=\"Mean-fixations-durations-5.2.0.3\">Mean fixations durations</a></span></li><li><span><a href=\"#Mean-time-between-clicks\" data-toc-modified-id=\"Mean-time-between-clicks-5.2.0.4\">Mean time between clicks</a></span></li></ul></li></ul></li></ul></li><li><span><a href=\"#Other-analysis\" data-toc-modified-id=\"Other-analysis-6\">Other analysis</a></span></li><li><span><a href=\"#Dashboard\" data-toc-modified-id=\"Dashboard-7\">Dashboard</a></span></li></ul></div>"
   ]
  },
  {
   "cell_type": "markdown",
   "id": "bd8956b7",
   "metadata": {},
   "source": [
    "<h1>Eye Gaze Data Processing<span class=\"tocSkip\"></span></h1>"
   ]
  },
  {
   "cell_type": "markdown",
   "id": "2646cdc0",
   "metadata": {},
   "source": [
    "Following metrics from: https://github.com/TheD2Lab/Eye.Tracking.Data.Analysis.For.Tobii.2150/tree/master/src/analysis"
   ]
  },
  {
   "cell_type": "markdown",
   "id": "f9b700e4",
   "metadata": {},
   "source": [
    "- Isaac Cortes\n",
    "- Reynaldo Suarez\n",
    "- Chris\n",
    "- Janki"
   ]
  },
  {
   "cell_type": "code",
   "execution_count": 2,
   "id": "3321a6a4",
   "metadata": {},
   "outputs": [],
   "source": [
    "# from plotnine import *\n",
    "import matplotlib.pyplot as plt\n",
    "import seaborn as sns\n",
    "import pandas as pd\n",
    "import numpy as np\n",
    "import random \n",
    "import math"
   ]
  },
  {
   "cell_type": "markdown",
   "id": "a40d49cb",
   "metadata": {},
   "source": [
    "# Preparation"
   ]
  },
  {
   "cell_type": "markdown",
   "id": "f67e48ca",
   "metadata": {},
   "source": [
    "## Load files"
   ]
  },
  {
   "cell_type": "code",
   "execution_count": 5,
   "id": "73947a36",
   "metadata": {},
   "outputs": [],
   "source": [
    "def load_files(participant = 1):\n",
    "    \n",
    "    route = f'datasets/p{participant}/p{participant}'\n",
    "    \n",
    "    # Load one of the files to create functions\n",
    "    baseline_cols = ['number', 'time', 'l_screen_x', 'l_screen_y', 'l_cam_x', 'l_cam_y', 'l_distance', \n",
    "                'l_pupil', 'l_code', 'r_screen_x', 'r_screen_y', 'r_cam_x', 'r_cam_y', 'r_distance', \n",
    "                'r_pupil', 'r_code']\n",
    "\n",
    "    baseline = pd.read_csv(f'{route}GZD.txt', sep='\\t', names = baseline_cols, on_bad_lines='skip')\n",
    "    \n",
    "    # Load FXD graph and tree\n",
    "    fxd_cols = ['number', 'time', 'duration', 'screen_x', 'screen_y']\n",
    "\n",
    "    fxd_graph = pd.read_csv(f'{route}.graphFXD.txt', sep='\\t', names = fxd_cols, on_bad_lines='skip')\n",
    "    fxd_tree = pd.read_csv(f'{route}.treeFXD.txt', sep='\\t', names = fxd_cols, on_bad_lines='skip')\n",
    "\n",
    "    # Load EVD graph and tree\n",
    "    evd_cols = ['time', 'event', 'event_key', 'data1', 'data2', 'description']\n",
    "\n",
    "    evd_graph = pd.read_csv(f'{route}.graphEVD.txt', sep='\\t', names = evd_cols, on_bad_lines='skip')\n",
    "    evd_tree = pd.read_csv(f'{route}.treeEVD.txt', sep='\\t', names = evd_cols, on_bad_lines='skip')\n",
    "    \n",
    "    # Load GZD graph and tree\n",
    "    gzd_cols = ['number', 'time', 'l_screen_x', 'l_screen_y', 'l_cam_x', 'l_cam_y', 'l_distance', \n",
    "                'l_pupil', 'l_code', 'r_screen_x', 'r_screen_y', 'r_cam_x', 'r_cam_y', 'r_distance', \n",
    "                'r_pupil', 'r_code']\n",
    "\n",
    "    gzd_graph = pd.read_csv(f'{route}.graphGZD.txt', sep='\\t', names = gzd_cols, on_bad_lines='skip')\n",
    "    gzd_tree = pd.read_csv(f'{route}.treeGZD.txt', sep='\\t', names = gzd_cols, on_bad_lines='skip')\n",
    "\n",
    "    return baseline, fxd_graph, fxd_tree, evd_graph, evd_tree, gzd_graph, gzd_tree\n"
   ]
  },
  {
   "cell_type": "code",
   "execution_count": 6,
   "id": "e05aa218",
   "metadata": {},
   "outputs": [
    {
     "name": "stdout",
     "output_type": "stream",
     "text": [
      "Participant: 21\n"
     ]
    }
   ],
   "source": [
    "# Not all numbers 1-36 are participants in folder, use random choose instead with the folder contents\n",
    "participant = random.randint(1,36)\n",
    "print(f'Participant: {participant}')\n",
    "\n",
    "baseline, fxd_graph, fxd_tree, evd_graph, evd_tree, gzd_graph, gzd_tree = load_files(participant)"
   ]
  },
  {
   "cell_type": "markdown",
   "id": "c56f3ea6",
   "metadata": {},
   "source": [
    "# Functions"
   ]
  },
  {
   "cell_type": "markdown",
   "id": "c1c1b7c6",
   "metadata": {},
   "source": [
    "## Helper functions"
   ]
  },
  {
   "cell_type": "markdown",
   "id": "9e5657b6",
   "metadata": {},
   "source": [
    "$$d = \\sqrt{(x_2 - x_1)^2 + (y_2-y_1)^2}$$"
   ]
  },
  {
   "cell_type": "code",
   "execution_count": 7,
   "id": "838c6c25",
   "metadata": {},
   "outputs": [],
   "source": [
    "def distance(row):\n",
    "    x1, y1 = row['x'], row['y']\n",
    "    x2, y2 =  row['next_x'], row['next_y']\n",
    "    dist = math.sqrt(math.pow((x2-x1), 2) + math.pow((y2-y1), 2))\n",
    "    row['dist'] = dist\n",
    "    \n",
    "    return row"
   ]
  },
  {
   "cell_type": "markdown",
   "id": "ce5d745e",
   "metadata": {},
   "source": [
    "$$dur = T2-(T1+D1)$$"
   ]
  },
  {
   "cell_type": "code",
   "execution_count": 8,
   "id": "6c45dbe8",
   "metadata": {},
   "outputs": [],
   "source": [
    "def duration(row):\n",
    "    \n",
    "    t1, d1 = row['time'], row['duration']\n",
    "    t2 = row['next_time']\n",
    "    duration = t2 - (t1+d1)\n",
    "    row['duration_between_fixations'] = duration\n",
    "    \n",
    "    return row "
   ]
  },
  {
   "cell_type": "markdown",
   "id": "addde5ae",
   "metadata": {},
   "source": [
    "## Metric functions"
   ]
  },
  {
   "cell_type": "markdown",
   "id": "11f1efe3",
   "metadata": {},
   "source": [
    "### All metrics"
   ]
  },
  {
   "cell_type": "code",
   "execution_count": 9,
   "id": "14faf7c7",
   "metadata": {
    "code_folding": []
   },
   "outputs": [],
   "source": [
    "def get_metrics_df(row):\n",
    "    \n",
    "    participant = ''.join(filter(str.isdigit, row['ID']))\n",
    "    print(participant)\n",
    "    \n",
    "    visualization = row['Visualization']\n",
    "    \n",
    "    # Load data for participant\n",
    "    baseline, fxd_graph, fxd_tree, evd_graph, evd_tree, gzd_graph, gzd_tree = load_files(participant)\n",
    "    \n",
    "    # Baseline gaze data\n",
    "    base_avg_size_left, base_avg_size_right, base_avg_size_both = get_gaze_metrics(baseline)\n",
    "    # Graph data\n",
    "    if visualization == 1:\n",
    "        # Fixations data\n",
    "        total_fixations, sum_fixation_duration, mean_fixation_duration, std_fixation_duration = get_fixation_metrics(fxd_graph)\n",
    "        # Saccade length data\n",
    "        total_saccades, sum_saccade_length, mean_saccade_length, std_saccade_length = get_saccade_length_metrics(fxd_graph)\n",
    "        # Saccade duration data\n",
    "        sum_saccade_duration, mean_saccade_duration, std_saccade_duration = get_saccade_durations_metrics(fxd_graph)\n",
    "        # Event data\n",
    "        total_left_clicks, mean_time_between_clicks, std_time_between_clicks = get_event_metrics(evd_graph)\n",
    "        # Gaze data\n",
    "        avg_size_left, avg_size_right, avg_size_both = get_gaze_metrics(gzd_graph)\n",
    "    # Tree data\n",
    "    else:\n",
    "        # Fixations data\n",
    "        total_fixations, sum_fixation_duration, mean_fixation_duration, std_fixation_duration = get_fixation_metrics(fxd_tree)\n",
    "        # Saccade length data\n",
    "        total_saccades, sum_saccade_length, mean_saccade_length, std_saccade_length = get_saccade_length_metrics(fxd_tree)\n",
    "        # Saccade duration data\n",
    "        sum_saccade_duration, mean_saccade_duration, std_saccade_duration = get_saccade_durations_metrics(fxd_tree)\n",
    "        # Event data\n",
    "        total_left_clicks, mean_time_between_clicks, std_time_between_clicks = get_event_metrics(evd_tree)\n",
    "        # Gaze data\n",
    "        avg_size_left, avg_size_right, avg_size_both = get_gaze_metrics(gzd_tree)\n",
    "    \n",
    "    cols = ['base_avg_size_left', 'base_avg_size_right', \n",
    "            'base_avg_size_both', 'total_fixations', 'sum_fixation_duration', \n",
    "            'mean_fixation_duration', 'std_fixation_duration', 'total_saccades', \n",
    "            'sum_saccade_length', 'mean_saccade_length', 'std_saccade_length', \n",
    "            'sum_saccade_duration', 'mean_saccade_duration', 'std_saccade_duration', \n",
    "            'total_left_clicks', 'mean_time_between_clicks', 'std_time_between_clicks', \n",
    "            'avg_size_left', 'avg_size_right', 'avg_size_both']\n",
    "    \n",
    "    data = [base_avg_size_left, base_avg_size_right, \n",
    "            base_avg_size_both, total_fixations, sum_fixation_duration, \n",
    "            mean_fixation_duration, std_fixation_duration, total_saccades, \n",
    "            sum_saccade_length, mean_saccade_length, std_saccade_length, sum_saccade_duration, \n",
    "            mean_saccade_duration, std_saccade_duration, total_left_clicks, \n",
    "            mean_time_between_clicks, std_time_between_clicks, \n",
    "            avg_size_left, avg_size_right, avg_size_both]\n",
    "    \n",
    "    for i in range(len(cols)):\n",
    "        row[cols[i]] = data[i]\n",
    "    \n",
    "    return row"
   ]
  },
  {
   "cell_type": "markdown",
   "id": "3a762acd",
   "metadata": {},
   "source": [
    "### Gaze data"
   ]
  },
  {
   "cell_type": "code",
   "execution_count": 10,
   "id": "1b358bd8",
   "metadata": {},
   "outputs": [],
   "source": [
    "def get_gaze_metrics(df):\n",
    "    \n",
    "    # A code with 0 indicates the eye tracker was confdident with this data\n",
    "    # Filtering only records where both pupil sizes are valid\n",
    "    df = df[(df['l_code'] == 0) & (df['r_code'] == 0)]\n",
    "    avg_size_left = df[\"l_pupil\"].mean()\n",
    "    avg_size_right = df[\"r_pupil\"].mean()\n",
    "    avg_size_both = pd.concat([df[\"r_pupil\"],df[\"l_pupil\"]]).mean()\n",
    "    \n",
    "    return avg_size_left, avg_size_right, avg_size_both"
   ]
  },
  {
   "cell_type": "code",
   "execution_count": 11,
   "id": "b08154e4",
   "metadata": {},
   "outputs": [],
   "source": [
    "def print_gaze_metrics(df):\n",
    "    avg_size_left, avg_size_right, avg_size_both = get_gaze_metrics(df)\n",
    "\n",
    "    print(f'Avg. pupil size of the left eye: {avg_size_left:.4f}')\n",
    "    print(f'Avg. pupil size of the right eye: {avg_size_right:.4f}')\n",
    "    print(f'Avg. pupil size of both eyes: {avg_size_both:.4f}')"
   ]
  },
  {
   "cell_type": "markdown",
   "id": "8cc0c526",
   "metadata": {},
   "source": [
    "### Fixation data"
   ]
  },
  {
   "cell_type": "code",
   "execution_count": 12,
   "id": "93859688",
   "metadata": {},
   "outputs": [],
   "source": [
    "def get_fixation_metrics(df):\n",
    "    \n",
    "    total_fixations = len(df)\n",
    "    sum_fixation_duration_sec = df[\"duration\"].sum() / 1000\n",
    "    mean_fixation_duration = df[\"duration\"].mean()\n",
    "    std_fixation_duration = df[\"duration\"].std()\n",
    "    \n",
    "    return total_fixations, sum_fixation_duration_sec, mean_fixation_duration, std_fixation_duration\n",
    "    \n",
    "def get_saccade_length_metrics(df):\n",
    "    \n",
    "    # Get distances of all points\n",
    "    coords = df[['screen_x','screen_y']].copy()\n",
    "    coords = coords.rename({'screen_x':'x','screen_y':'y'}, axis='columns')\n",
    "    coords['next_x'] = coords['x'].shift(-1)\n",
    "    coords['next_y'] = coords['y'].shift(-1)\n",
    "    coords = coords.apply(distance, axis=1)\n",
    "    coords.dropna(inplace=True)\n",
    "    \n",
    "    total_saccades = len(coords)\n",
    "    sum_saccade_length = coords['dist'].sum()\n",
    "    mean_saccade_length = coords['dist'].mean()\n",
    "    std_saccade_length = coords['dist'].std()\n",
    "        \n",
    "    return total_saccades, sum_saccade_length, mean_saccade_length, std_saccade_length\n",
    "\n",
    "def get_saccade_durations_metrics(df):\n",
    "    \n",
    "    # Get duration of all saccades\n",
    "    saccadeDetails = df[['time','duration']].copy()\n",
    "    saccadeDetails['next_time'] = saccadeDetails['time'].shift(-1)\n",
    "    saccadeDetails['next_duration'] = saccadeDetails['duration'].shift(-1)\n",
    "    saccadeDetails = saccadeDetails.apply(duration, axis=1)\n",
    "    saccadeDetails.dropna(inplace=True)\n",
    "    \n",
    "    sum_saccade_duration_sec = saccadeDetails['duration_between_fixations'].sum() / 1000\n",
    "    mean_saccade_duration = saccadeDetails['duration_between_fixations'].mean()\n",
    "    std_saccade_duration = saccadeDetails['duration_between_fixations'].std()\n",
    "    \n",
    "    return sum_saccade_duration_sec, mean_saccade_duration, std_saccade_duration"
   ]
  },
  {
   "cell_type": "code",
   "execution_count": 18,
   "id": "4dc1ae34",
   "metadata": {},
   "outputs": [],
   "source": [
    "def print_fixation_metrics(df):\n",
    "    # Fixations\n",
    "    total_fixations, sum_fixation_duration_sec, mean_fixation_duration, std_fixation_duration = get_fixation_metrics(df)\n",
    "    print(f'{\"=\"*10} {\"Fixations\":^20} {\"=\"*10}')\n",
    "    print(f'Total number of fixations: {total_fixations}')\n",
    "    print(f'Sum of all fixation durations: {sum_fixation_duration_sec}s')\n",
    "    print(f'Sum of all fixation durations: {sum_fixation_duration_sec / 60 :.2f}min')\n",
    "    print(f'Mean fixation duration: {mean_fixation_duration:.2f}ms')\n",
    "    print(f'StDev fixation duration: {std_fixation_duration:.2f}ms')\n",
    "\n",
    "    # Saccade \n",
    "    total_saccades, sum_saccade_length, mean_saccade_length, std_saccade_length = get_saccade_length_metrics(df)\n",
    "    print(f'\\n{\"=\"*10} {\"Saccade lengths\":^20} {\"=\"*10}')\n",
    "    print(f'Total number of saccades: {total_saccades}')\n",
    "    print(f'Sum of all saccade lengths: {sum_saccade_length:.2f}px')\n",
    "    print(f'Mean saccade length: {mean_saccade_length:.2f}px')\n",
    "    print(f'StDev saccade length: {std_saccade_length:.2f}px')\n",
    "\n",
    "    # Durations\n",
    "    sum_saccade_duration_sec, mean_saccade_duration, std_saccade_duration = get_saccade_durations_metrics(df)\n",
    "    print(f'\\n{\"=\"*10} {\"Saccade durations\":^20} {\"=\"*10}')\n",
    "    print(f'Sum of all saccade durations: {sum_saccade_duration_sec:.2f}s')\n",
    "    print(f'Sum of all saccade durations: {sum_saccade_duration_sec / 60 :.2f}min')\n",
    "    print(f'Mean saccade duration: {mean_saccade_duration:.2f}ms')\n",
    "    print(f'StDev saccade duration: {std_saccade_duration:.2f}ms')"
   ]
  },
  {
   "cell_type": "markdown",
   "id": "68c805e0",
   "metadata": {},
   "source": [
    "### Event data"
   ]
  },
  {
   "cell_type": "code",
   "execution_count": 13,
   "id": "b03a9a9c",
   "metadata": {},
   "outputs": [],
   "source": [
    "def get_event_metrics(df):\n",
    "    \n",
    "    lclicks = df[df['event'] == 'LMouseButton']\n",
    "    lclicks = lclicks[['time','data1','data2']]\n",
    "    lclicks['next_time'] = lclicks['time'].shift(-1)\n",
    "    lclicks['time_between'] = lclicks['next_time'] - lclicks['time']\n",
    "    lclicks.dropna(inplace=True)\n",
    "\n",
    "    total_L_clicks = len(lclicks)\n",
    "    avg_time_between_clicks_sec = lclicks['time_between'].mean() / 1000\n",
    "    std_time_between_clicks_sec = lclicks['time_between'].std() / 1000\n",
    "    \n",
    "    return total_L_clicks, avg_time_between_clicks_sec, std_time_between_clicks_sec"
   ]
  },
  {
   "cell_type": "code",
   "execution_count": 14,
   "id": "09bd03b7",
   "metadata": {},
   "outputs": [],
   "source": [
    "def print_event_metrics(df):\n",
    "    \n",
    "    total_L_clicks, avg_time_between_clicks_sec, std_time_between_clicks_sec = get_event_metrics(df)\n",
    "    \n",
    "    print(f'Total number of L mouse clicks: {total_L_clicks}')\n",
    "    print(f'Avg. amount of time between clicks: {avg_time_between_clicks_sec:.2f}s')\n",
    "    print(f'StDev amount of time between clicks: {std_time_between_clicks_sec:.2f}s')"
   ]
  },
  {
   "cell_type": "markdown",
   "id": "e55860b5",
   "metadata": {},
   "source": [
    "# Testing metrics"
   ]
  },
  {
   "cell_type": "markdown",
   "id": "1278409b",
   "metadata": {},
   "source": [
    "## Baseline Analysis"
   ]
  },
  {
   "cell_type": "markdown",
   "id": "2076f8ce",
   "metadata": {},
   "source": [
    "- average pupil size of left eye; \n",
    "- average pupil size of right eye; \n",
    "- average pupil size of both eyes."
   ]
  },
  {
   "cell_type": "code",
   "execution_count": 15,
   "id": "b6a84d40",
   "metadata": {},
   "outputs": [
    {
     "data": {
      "text/html": [
       "<div>\n",
       "<style scoped>\n",
       "    .dataframe tbody tr th:only-of-type {\n",
       "        vertical-align: middle;\n",
       "    }\n",
       "\n",
       "    .dataframe tbody tr th {\n",
       "        vertical-align: top;\n",
       "    }\n",
       "\n",
       "    .dataframe thead th {\n",
       "        text-align: right;\n",
       "    }\n",
       "</style>\n",
       "<table border=\"1\" class=\"dataframe\">\n",
       "  <thead>\n",
       "    <tr style=\"text-align: right;\">\n",
       "      <th></th>\n",
       "      <th>number</th>\n",
       "      <th>time</th>\n",
       "      <th>l_screen_x</th>\n",
       "      <th>l_screen_y</th>\n",
       "      <th>l_cam_x</th>\n",
       "      <th>l_cam_y</th>\n",
       "      <th>l_distance</th>\n",
       "      <th>l_pupil</th>\n",
       "      <th>l_code</th>\n",
       "      <th>r_screen_x</th>\n",
       "      <th>r_screen_y</th>\n",
       "      <th>r_cam_x</th>\n",
       "      <th>r_cam_y</th>\n",
       "      <th>r_distance</th>\n",
       "      <th>r_pupil</th>\n",
       "      <th>r_code</th>\n",
       "    </tr>\n",
       "  </thead>\n",
       "  <tbody>\n",
       "    <tr>\n",
       "      <th>0</th>\n",
       "      <td>11</td>\n",
       "      <td>1</td>\n",
       "      <td>-1280</td>\n",
       "      <td>-1024</td>\n",
       "      <td>0.719</td>\n",
       "      <td>0.836</td>\n",
       "      <td>-1.000</td>\n",
       "      <td>-1.000</td>\n",
       "      <td>4</td>\n",
       "      <td>-1280</td>\n",
       "      <td>-1024</td>\n",
       "      <td>0.462</td>\n",
       "      <td>0.83</td>\n",
       "      <td>-1.000</td>\n",
       "      <td>-1.000</td>\n",
       "      <td>4</td>\n",
       "    </tr>\n",
       "    <tr>\n",
       "      <th>1</th>\n",
       "      <td>31</td>\n",
       "      <td>2</td>\n",
       "      <td>243</td>\n",
       "      <td>621</td>\n",
       "      <td>0.719</td>\n",
       "      <td>0.836</td>\n",
       "      <td>659.718</td>\n",
       "      <td>3.500</td>\n",
       "      <td>0</td>\n",
       "      <td>232</td>\n",
       "      <td>592</td>\n",
       "      <td>0.462</td>\n",
       "      <td>0.83</td>\n",
       "      <td>670.642</td>\n",
       "      <td>3.757</td>\n",
       "      <td>0</td>\n",
       "    </tr>\n",
       "    <tr>\n",
       "      <th>2</th>\n",
       "      <td>51</td>\n",
       "      <td>3</td>\n",
       "      <td>233</td>\n",
       "      <td>614</td>\n",
       "      <td>0.719</td>\n",
       "      <td>0.836</td>\n",
       "      <td>659.718</td>\n",
       "      <td>3.606</td>\n",
       "      <td>0</td>\n",
       "      <td>216</td>\n",
       "      <td>636</td>\n",
       "      <td>0.461</td>\n",
       "      <td>0.83</td>\n",
       "      <td>670.642</td>\n",
       "      <td>3.445</td>\n",
       "      <td>0</td>\n",
       "    </tr>\n",
       "    <tr>\n",
       "      <th>3</th>\n",
       "      <td>70</td>\n",
       "      <td>4</td>\n",
       "      <td>229</td>\n",
       "      <td>609</td>\n",
       "      <td>0.719</td>\n",
       "      <td>0.836</td>\n",
       "      <td>659.718</td>\n",
       "      <td>3.515</td>\n",
       "      <td>0</td>\n",
       "      <td>236</td>\n",
       "      <td>633</td>\n",
       "      <td>0.461</td>\n",
       "      <td>0.83</td>\n",
       "      <td>670.642</td>\n",
       "      <td>3.542</td>\n",
       "      <td>0</td>\n",
       "    </tr>\n",
       "    <tr>\n",
       "      <th>4</th>\n",
       "      <td>90</td>\n",
       "      <td>5</td>\n",
       "      <td>229</td>\n",
       "      <td>611</td>\n",
       "      <td>0.718</td>\n",
       "      <td>0.836</td>\n",
       "      <td>659.718</td>\n",
       "      <td>3.584</td>\n",
       "      <td>0</td>\n",
       "      <td>214</td>\n",
       "      <td>633</td>\n",
       "      <td>0.461</td>\n",
       "      <td>0.83</td>\n",
       "      <td>670.642</td>\n",
       "      <td>3.439</td>\n",
       "      <td>0</td>\n",
       "    </tr>\n",
       "  </tbody>\n",
       "</table>\n",
       "</div>"
      ],
      "text/plain": [
       "   number  time  l_screen_x  l_screen_y  l_cam_x  l_cam_y  l_distance  \\\n",
       "0      11     1       -1280       -1024    0.719    0.836      -1.000   \n",
       "1      31     2         243         621    0.719    0.836     659.718   \n",
       "2      51     3         233         614    0.719    0.836     659.718   \n",
       "3      70     4         229         609    0.719    0.836     659.718   \n",
       "4      90     5         229         611    0.718    0.836     659.718   \n",
       "\n",
       "   l_pupil  l_code  r_screen_x  r_screen_y  r_cam_x  r_cam_y  r_distance  \\\n",
       "0   -1.000       4       -1280       -1024    0.462     0.83      -1.000   \n",
       "1    3.500       0         232         592    0.462     0.83     670.642   \n",
       "2    3.606       0         216         636    0.461     0.83     670.642   \n",
       "3    3.515       0         236         633    0.461     0.83     670.642   \n",
       "4    3.584       0         214         633    0.461     0.83     670.642   \n",
       "\n",
       "   r_pupil  r_code  \n",
       "0   -1.000       4  \n",
       "1    3.757       0  \n",
       "2    3.445       0  \n",
       "3    3.542       0  \n",
       "4    3.439       0  "
      ]
     },
     "execution_count": 15,
     "metadata": {},
     "output_type": "execute_result"
    }
   ],
   "source": [
    "baseline.head()"
   ]
  },
  {
   "cell_type": "code",
   "execution_count": 16,
   "id": "abd31faa",
   "metadata": {},
   "outputs": [
    {
     "name": "stdout",
     "output_type": "stream",
     "text": [
      "Avg. pupil size of the left eye: 3.2385\n",
      "Avg. pupil size of the right eye: 3.1989\n",
      "Avg. pupil size of both eyes: 3.2187\n",
      "Wall time: 8 ms\n"
     ]
    }
   ],
   "source": [
    "%%time\n",
    "print_gaze_metrics(baseline)"
   ]
  },
  {
   "cell_type": "markdown",
   "id": "42b5d32f",
   "metadata": {},
   "source": [
    "## FXD Analysis"
   ]
  },
  {
   "cell_type": "markdown",
   "id": "0e192f2d",
   "metadata": {},
   "source": [
    "**Fixations**\n",
    "- total number of fixations\n",
    "- sum of all fixation duration\n",
    "- mean duration\n",
    "- StDev of durations\n",
    "\n",
    "**Saccade lengths**\n",
    "- total number of saccades\n",
    "- sum of all saccade length\n",
    "- mean saccade length\n",
    "- StDev of saccade lengths\n",
    "\n",
    "**Saccade durations**\n",
    "- sum of all saccade durations\n",
    "- mean saccade duration\n",
    "- StDev of saccade durations\n",
    "\n",
    "**Research**\n",
    "- scanpath duration\n",
    "- fixation to saccade ratio"
   ]
  },
  {
   "cell_type": "code",
   "execution_count": 16,
   "id": "b1ab24dd",
   "metadata": {
    "scrolled": false
   },
   "outputs": [
    {
     "data": {
      "text/html": [
       "<div>\n",
       "<style scoped>\n",
       "    .dataframe tbody tr th:only-of-type {\n",
       "        vertical-align: middle;\n",
       "    }\n",
       "\n",
       "    .dataframe tbody tr th {\n",
       "        vertical-align: top;\n",
       "    }\n",
       "\n",
       "    .dataframe thead th {\n",
       "        text-align: right;\n",
       "    }\n",
       "</style>\n",
       "<table border=\"1\" class=\"dataframe\">\n",
       "  <thead>\n",
       "    <tr style=\"text-align: right;\">\n",
       "      <th></th>\n",
       "      <th>number</th>\n",
       "      <th>time</th>\n",
       "      <th>duration</th>\n",
       "      <th>screen_x</th>\n",
       "      <th>screen_y</th>\n",
       "    </tr>\n",
       "  </thead>\n",
       "  <tbody>\n",
       "    <tr>\n",
       "      <th>0</th>\n",
       "      <td>1</td>\n",
       "      <td>53</td>\n",
       "      <td>259</td>\n",
       "      <td>649</td>\n",
       "      <td>498</td>\n",
       "    </tr>\n",
       "    <tr>\n",
       "      <th>1</th>\n",
       "      <td>2</td>\n",
       "      <td>372</td>\n",
       "      <td>279</td>\n",
       "      <td>386</td>\n",
       "      <td>406</td>\n",
       "    </tr>\n",
       "    <tr>\n",
       "      <th>2</th>\n",
       "      <td>3</td>\n",
       "      <td>671</td>\n",
       "      <td>199</td>\n",
       "      <td>629</td>\n",
       "      <td>450</td>\n",
       "    </tr>\n",
       "    <tr>\n",
       "      <th>3</th>\n",
       "      <td>4</td>\n",
       "      <td>970</td>\n",
       "      <td>239</td>\n",
       "      <td>457</td>\n",
       "      <td>175</td>\n",
       "    </tr>\n",
       "    <tr>\n",
       "      <th>4</th>\n",
       "      <td>5</td>\n",
       "      <td>1269</td>\n",
       "      <td>139</td>\n",
       "      <td>571</td>\n",
       "      <td>191</td>\n",
       "    </tr>\n",
       "  </tbody>\n",
       "</table>\n",
       "</div>"
      ],
      "text/plain": [
       "   number  time  duration  screen_x  screen_y\n",
       "0       1    53       259       649       498\n",
       "1       2   372       279       386       406\n",
       "2       3   671       199       629       450\n",
       "3       4   970       239       457       175\n",
       "4       5  1269       139       571       191"
      ]
     },
     "execution_count": 16,
     "metadata": {},
     "output_type": "execute_result"
    }
   ],
   "source": [
    "fxd_graph.head()"
   ]
  },
  {
   "cell_type": "code",
   "execution_count": 19,
   "id": "2012e979",
   "metadata": {},
   "outputs": [
    {
     "name": "stdout",
     "output_type": "stream",
     "text": [
      "==========      Fixations       ==========\n",
      "Total number of fixations: 3130\n",
      "Sum of all fixation durations: 1124.668s\n",
      "Sum of all fixation durations: 18.74min\n",
      "Mean fixation duration: 359.32ms\n",
      "StDev fixation duration: 287.50ms\n",
      "\n",
      "==========   Saccade lengths    ==========\n",
      "Total number of saccades: 3129\n",
      "Sum of all saccade lengths: 425933.76px\n",
      "Mean saccade length: 136.12px\n",
      "StDev saccade length: 169.63px\n",
      "\n",
      "==========  Saccade durations   ==========\n",
      "Sum of all saccade durations: 141.42s\n",
      "Sum of all saccade durations: 2.36min\n",
      "Mean saccade duration: 45.20ms\n",
      "StDev saccade duration: 74.21ms\n",
      "Wall time: 4 s\n"
     ]
    }
   ],
   "source": [
    "%%time\n",
    "print_fixation_metrics(fxd_graph)"
   ]
  },
  {
   "cell_type": "code",
   "execution_count": 20,
   "id": "8728a1ff",
   "metadata": {},
   "outputs": [
    {
     "data": {
      "text/html": [
       "<div>\n",
       "<style scoped>\n",
       "    .dataframe tbody tr th:only-of-type {\n",
       "        vertical-align: middle;\n",
       "    }\n",
       "\n",
       "    .dataframe tbody tr th {\n",
       "        vertical-align: top;\n",
       "    }\n",
       "\n",
       "    .dataframe thead th {\n",
       "        text-align: right;\n",
       "    }\n",
       "</style>\n",
       "<table border=\"1\" class=\"dataframe\">\n",
       "  <thead>\n",
       "    <tr style=\"text-align: right;\">\n",
       "      <th></th>\n",
       "      <th>number</th>\n",
       "      <th>time</th>\n",
       "      <th>duration</th>\n",
       "      <th>screen_x</th>\n",
       "      <th>screen_y</th>\n",
       "    </tr>\n",
       "  </thead>\n",
       "  <tbody>\n",
       "    <tr>\n",
       "      <th>0</th>\n",
       "      <td>1</td>\n",
       "      <td>180</td>\n",
       "      <td>279</td>\n",
       "      <td>608</td>\n",
       "      <td>396</td>\n",
       "    </tr>\n",
       "    <tr>\n",
       "      <th>1</th>\n",
       "      <td>2</td>\n",
       "      <td>479</td>\n",
       "      <td>140</td>\n",
       "      <td>672</td>\n",
       "      <td>592</td>\n",
       "    </tr>\n",
       "    <tr>\n",
       "      <th>2</th>\n",
       "      <td>3</td>\n",
       "      <td>1077</td>\n",
       "      <td>140</td>\n",
       "      <td>97</td>\n",
       "      <td>559</td>\n",
       "    </tr>\n",
       "    <tr>\n",
       "      <th>3</th>\n",
       "      <td>4</td>\n",
       "      <td>1337</td>\n",
       "      <td>140</td>\n",
       "      <td>404</td>\n",
       "      <td>376</td>\n",
       "    </tr>\n",
       "    <tr>\n",
       "      <th>4</th>\n",
       "      <td>5</td>\n",
       "      <td>1775</td>\n",
       "      <td>219</td>\n",
       "      <td>516</td>\n",
       "      <td>203</td>\n",
       "    </tr>\n",
       "  </tbody>\n",
       "</table>\n",
       "</div>"
      ],
      "text/plain": [
       "   number  time  duration  screen_x  screen_y\n",
       "0       1   180       279       608       396\n",
       "1       2   479       140       672       592\n",
       "2       3  1077       140        97       559\n",
       "3       4  1337       140       404       376\n",
       "4       5  1775       219       516       203"
      ]
     },
     "execution_count": 20,
     "metadata": {},
     "output_type": "execute_result"
    }
   ],
   "source": [
    "fxd_tree.head()"
   ]
  },
  {
   "cell_type": "code",
   "execution_count": 22,
   "id": "738946bb",
   "metadata": {},
   "outputs": [
    {
     "name": "stdout",
     "output_type": "stream",
     "text": [
      "==========      Fixations       ==========\n",
      "Total number of fixations: 1735\n",
      "Sum of all fixation durations: 597.5s\n",
      "Sum of all fixation durations: 9.96min\n",
      "Mean fixation duration: 344.38ms\n",
      "StDev fixation duration: 252.88ms\n",
      "\n",
      "==========   Saccade lengths    ==========\n",
      "Total number of saccades: 1734\n",
      "Sum of all saccade lengths: 209846.52px\n",
      "Mean saccade length: 121.02px\n",
      "StDev saccade length: 171.67px\n",
      "\n",
      "==========  Saccade durations   ==========\n",
      "Sum of all saccade durations: 97.48s\n",
      "Sum of all saccade durations: 1.62min\n",
      "Mean saccade duration: 56.22ms\n",
      "StDev saccade duration: 98.66ms\n",
      "Wall time: 2.74 s\n"
     ]
    }
   ],
   "source": [
    "%%time\n",
    "print_fixation_metrics(fxd_tree)"
   ]
  },
  {
   "cell_type": "markdown",
   "id": "f076c198",
   "metadata": {},
   "source": [
    "## EVD Analysis"
   ]
  },
  {
   "cell_type": "markdown",
   "id": "aea0364f",
   "metadata": {},
   "source": [
    "- total number of L mouse clicks. \n",
    "- avg time between clicks.\n",
    "- std time between clicks."
   ]
  },
  {
   "cell_type": "code",
   "execution_count": 23,
   "id": "9ce910df",
   "metadata": {},
   "outputs": [
    {
     "data": {
      "text/html": [
       "<div>\n",
       "<style scoped>\n",
       "    .dataframe tbody tr th:only-of-type {\n",
       "        vertical-align: middle;\n",
       "    }\n",
       "\n",
       "    .dataframe tbody tr th {\n",
       "        vertical-align: top;\n",
       "    }\n",
       "\n",
       "    .dataframe thead th {\n",
       "        text-align: right;\n",
       "    }\n",
       "</style>\n",
       "<table border=\"1\" class=\"dataframe\">\n",
       "  <thead>\n",
       "    <tr style=\"text-align: right;\">\n",
       "      <th></th>\n",
       "      <th>time</th>\n",
       "      <th>event</th>\n",
       "      <th>event_key</th>\n",
       "      <th>data1</th>\n",
       "      <th>data2</th>\n",
       "      <th>description</th>\n",
       "    </tr>\n",
       "  </thead>\n",
       "  <tbody>\n",
       "    <tr>\n",
       "      <th>0</th>\n",
       "      <td>5978</td>\n",
       "      <td>LMouseButton</td>\n",
       "      <td>1</td>\n",
       "      <td>639</td>\n",
       "      <td>965</td>\n",
       "      <td>NaN</td>\n",
       "    </tr>\n",
       "    <tr>\n",
       "      <th>1</th>\n",
       "      <td>6397</td>\n",
       "      <td>LMouseButton</td>\n",
       "      <td>1</td>\n",
       "      <td>639</td>\n",
       "      <td>965</td>\n",
       "      <td>NaN</td>\n",
       "    </tr>\n",
       "    <tr>\n",
       "      <th>2</th>\n",
       "      <td>6706</td>\n",
       "      <td>LMouseButton</td>\n",
       "      <td>1</td>\n",
       "      <td>639</td>\n",
       "      <td>965</td>\n",
       "      <td>NaN</td>\n",
       "    </tr>\n",
       "    <tr>\n",
       "      <th>3</th>\n",
       "      <td>9497</td>\n",
       "      <td>LMouseButton</td>\n",
       "      <td>1</td>\n",
       "      <td>387</td>\n",
       "      <td>577</td>\n",
       "      <td>NaN</td>\n",
       "    </tr>\n",
       "    <tr>\n",
       "      <th>4</th>\n",
       "      <td>12098</td>\n",
       "      <td>LMouseButton</td>\n",
       "      <td>1</td>\n",
       "      <td>429</td>\n",
       "      <td>712</td>\n",
       "      <td>NaN</td>\n",
       "    </tr>\n",
       "  </tbody>\n",
       "</table>\n",
       "</div>"
      ],
      "text/plain": [
       "    time         event  event_key  data1  data2 description\n",
       "0   5978  LMouseButton          1    639    965         NaN\n",
       "1   6397  LMouseButton          1    639    965         NaN\n",
       "2   6706  LMouseButton          1    639    965         NaN\n",
       "3   9497  LMouseButton          1    387    577         NaN\n",
       "4  12098  LMouseButton          1    429    712         NaN"
      ]
     },
     "execution_count": 23,
     "metadata": {},
     "output_type": "execute_result"
    }
   ],
   "source": [
    "evd_graph.head()"
   ]
  },
  {
   "cell_type": "code",
   "execution_count": 24,
   "id": "ef2d61aa",
   "metadata": {},
   "outputs": [
    {
     "name": "stdout",
     "output_type": "stream",
     "text": [
      "Total number of L mouse clicks: 423\n",
      "Avg. amount of time between clicks: 2.94s\n",
      "StDev amount of time between clicks: 3.63s\n",
      "Wall time: 11 ms\n"
     ]
    }
   ],
   "source": [
    "%%time\n",
    "print_event_metrics(evd_graph)"
   ]
  },
  {
   "cell_type": "code",
   "execution_count": 25,
   "id": "01245a29",
   "metadata": {},
   "outputs": [
    {
     "data": {
      "text/html": [
       "<div>\n",
       "<style scoped>\n",
       "    .dataframe tbody tr th:only-of-type {\n",
       "        vertical-align: middle;\n",
       "    }\n",
       "\n",
       "    .dataframe tbody tr th {\n",
       "        vertical-align: top;\n",
       "    }\n",
       "\n",
       "    .dataframe thead th {\n",
       "        text-align: right;\n",
       "    }\n",
       "</style>\n",
       "<table border=\"1\" class=\"dataframe\">\n",
       "  <thead>\n",
       "    <tr style=\"text-align: right;\">\n",
       "      <th></th>\n",
       "      <th>time</th>\n",
       "      <th>event</th>\n",
       "      <th>event_key</th>\n",
       "      <th>data1</th>\n",
       "      <th>data2</th>\n",
       "      <th>description</th>\n",
       "    </tr>\n",
       "  </thead>\n",
       "  <tbody>\n",
       "    <tr>\n",
       "      <th>0</th>\n",
       "      <td>3183</td>\n",
       "      <td>LMouseButton</td>\n",
       "      <td>1</td>\n",
       "      <td>531</td>\n",
       "      <td>225</td>\n",
       "      <td>NaN</td>\n",
       "    </tr>\n",
       "    <tr>\n",
       "      <th>1</th>\n",
       "      <td>4927</td>\n",
       "      <td>LMouseButton</td>\n",
       "      <td>1</td>\n",
       "      <td>41</td>\n",
       "      <td>575</td>\n",
       "      <td>NaN</td>\n",
       "    </tr>\n",
       "    <tr>\n",
       "      <th>2</th>\n",
       "      <td>7948</td>\n",
       "      <td>LMouseButton</td>\n",
       "      <td>1</td>\n",
       "      <td>680</td>\n",
       "      <td>575</td>\n",
       "      <td>NaN</td>\n",
       "    </tr>\n",
       "    <tr>\n",
       "      <th>3</th>\n",
       "      <td>10100</td>\n",
       "      <td>LMouseButton</td>\n",
       "      <td>1</td>\n",
       "      <td>701</td>\n",
       "      <td>591</td>\n",
       "      <td>NaN</td>\n",
       "    </tr>\n",
       "    <tr>\n",
       "      <th>4</th>\n",
       "      <td>17058</td>\n",
       "      <td>LMouseButton</td>\n",
       "      <td>1</td>\n",
       "      <td>62</td>\n",
       "      <td>586</td>\n",
       "      <td>NaN</td>\n",
       "    </tr>\n",
       "  </tbody>\n",
       "</table>\n",
       "</div>"
      ],
      "text/plain": [
       "    time         event  event_key  data1  data2 description\n",
       "0   3183  LMouseButton          1    531    225         NaN\n",
       "1   4927  LMouseButton          1     41    575         NaN\n",
       "2   7948  LMouseButton          1    680    575         NaN\n",
       "3  10100  LMouseButton          1    701    591         NaN\n",
       "4  17058  LMouseButton          1     62    586         NaN"
      ]
     },
     "execution_count": 25,
     "metadata": {},
     "output_type": "execute_result"
    }
   ],
   "source": [
    "evd_tree.head()"
   ]
  },
  {
   "cell_type": "code",
   "execution_count": 26,
   "id": "2594720c",
   "metadata": {},
   "outputs": [
    {
     "name": "stdout",
     "output_type": "stream",
     "text": [
      "Total number of L mouse clicks: 252\n",
      "Avg. amount of time between clicks: 2.70s\n",
      "StDev amount of time between clicks: 3.65s\n",
      "Wall time: 10 ms\n"
     ]
    }
   ],
   "source": [
    "%%time\n",
    "print_event_metrics(evd_tree)"
   ]
  },
  {
   "cell_type": "markdown",
   "id": "a8939c56",
   "metadata": {},
   "source": [
    "## GZD Analysis"
   ]
  },
  {
   "cell_type": "markdown",
   "id": "a68ca18a",
   "metadata": {},
   "source": [
    "- average pupil size of left eye;\n",
    "- average pupil size of right eye;\n",
    "- average pupil size of both eyes."
   ]
  },
  {
   "cell_type": "code",
   "execution_count": 27,
   "id": "e8c19649",
   "metadata": {},
   "outputs": [
    {
     "data": {
      "text/html": [
       "<div>\n",
       "<style scoped>\n",
       "    .dataframe tbody tr th:only-of-type {\n",
       "        vertical-align: middle;\n",
       "    }\n",
       "\n",
       "    .dataframe tbody tr th {\n",
       "        vertical-align: top;\n",
       "    }\n",
       "\n",
       "    .dataframe thead th {\n",
       "        text-align: right;\n",
       "    }\n",
       "</style>\n",
       "<table border=\"1\" class=\"dataframe\">\n",
       "  <thead>\n",
       "    <tr style=\"text-align: right;\">\n",
       "      <th></th>\n",
       "      <th>number</th>\n",
       "      <th>time</th>\n",
       "      <th>l_screen_x</th>\n",
       "      <th>l_screen_y</th>\n",
       "      <th>l_cam_x</th>\n",
       "      <th>l_cam_y</th>\n",
       "      <th>l_distance</th>\n",
       "      <th>l_pupil</th>\n",
       "      <th>l_code</th>\n",
       "      <th>r_screen_x</th>\n",
       "      <th>r_screen_y</th>\n",
       "      <th>r_cam_x</th>\n",
       "      <th>r_cam_y</th>\n",
       "      <th>r_distance</th>\n",
       "      <th>r_pupil</th>\n",
       "      <th>r_code</th>\n",
       "    </tr>\n",
       "  </thead>\n",
       "  <tbody>\n",
       "    <tr>\n",
       "      <th>0</th>\n",
       "      <td>13</td>\n",
       "      <td>1</td>\n",
       "      <td>633</td>\n",
       "      <td>495</td>\n",
       "      <td>0.553</td>\n",
       "      <td>0.548</td>\n",
       "      <td>783.343</td>\n",
       "      <td>3.949</td>\n",
       "      <td>0</td>\n",
       "      <td>650</td>\n",
       "      <td>499</td>\n",
       "      <td>0.323</td>\n",
       "      <td>0.57</td>\n",
       "      <td>783.973</td>\n",
       "      <td>3.819</td>\n",
       "      <td>0</td>\n",
       "    </tr>\n",
       "    <tr>\n",
       "      <th>1</th>\n",
       "      <td>33</td>\n",
       "      <td>2</td>\n",
       "      <td>-1280</td>\n",
       "      <td>-1024</td>\n",
       "      <td>0.323</td>\n",
       "      <td>0.570</td>\n",
       "      <td>-1.000</td>\n",
       "      <td>-1.000</td>\n",
       "      <td>4</td>\n",
       "      <td>-1280</td>\n",
       "      <td>-1024</td>\n",
       "      <td>0.323</td>\n",
       "      <td>0.57</td>\n",
       "      <td>-1.000</td>\n",
       "      <td>-1.000</td>\n",
       "      <td>4</td>\n",
       "    </tr>\n",
       "    <tr>\n",
       "      <th>2</th>\n",
       "      <td>53</td>\n",
       "      <td>3</td>\n",
       "      <td>-1280</td>\n",
       "      <td>-1024</td>\n",
       "      <td>0.552</td>\n",
       "      <td>0.548</td>\n",
       "      <td>-1.000</td>\n",
       "      <td>-1.000</td>\n",
       "      <td>4</td>\n",
       "      <td>650</td>\n",
       "      <td>505</td>\n",
       "      <td>0.322</td>\n",
       "      <td>0.57</td>\n",
       "      <td>789.508</td>\n",
       "      <td>3.905</td>\n",
       "      <td>0</td>\n",
       "    </tr>\n",
       "    <tr>\n",
       "      <th>3</th>\n",
       "      <td>73</td>\n",
       "      <td>4</td>\n",
       "      <td>627</td>\n",
       "      <td>479</td>\n",
       "      <td>0.552</td>\n",
       "      <td>0.548</td>\n",
       "      <td>787.495</td>\n",
       "      <td>3.925</td>\n",
       "      <td>0</td>\n",
       "      <td>649</td>\n",
       "      <td>506</td>\n",
       "      <td>0.322</td>\n",
       "      <td>0.57</td>\n",
       "      <td>789.508</td>\n",
       "      <td>3.847</td>\n",
       "      <td>0</td>\n",
       "    </tr>\n",
       "    <tr>\n",
       "      <th>4</th>\n",
       "      <td>93</td>\n",
       "      <td>5</td>\n",
       "      <td>637</td>\n",
       "      <td>487</td>\n",
       "      <td>0.553</td>\n",
       "      <td>0.548</td>\n",
       "      <td>787.495</td>\n",
       "      <td>3.969</td>\n",
       "      <td>0</td>\n",
       "      <td>652</td>\n",
       "      <td>513</td>\n",
       "      <td>0.323</td>\n",
       "      <td>0.57</td>\n",
       "      <td>789.508</td>\n",
       "      <td>3.860</td>\n",
       "      <td>0</td>\n",
       "    </tr>\n",
       "  </tbody>\n",
       "</table>\n",
       "</div>"
      ],
      "text/plain": [
       "   number  time  l_screen_x  l_screen_y  l_cam_x  l_cam_y  l_distance  \\\n",
       "0      13     1         633         495    0.553    0.548     783.343   \n",
       "1      33     2       -1280       -1024    0.323    0.570      -1.000   \n",
       "2      53     3       -1280       -1024    0.552    0.548      -1.000   \n",
       "3      73     4         627         479    0.552    0.548     787.495   \n",
       "4      93     5         637         487    0.553    0.548     787.495   \n",
       "\n",
       "   l_pupil  l_code  r_screen_x  r_screen_y  r_cam_x  r_cam_y  r_distance  \\\n",
       "0    3.949       0         650         499    0.323     0.57     783.973   \n",
       "1   -1.000       4       -1280       -1024    0.323     0.57      -1.000   \n",
       "2   -1.000       4         650         505    0.322     0.57     789.508   \n",
       "3    3.925       0         649         506    0.322     0.57     789.508   \n",
       "4    3.969       0         652         513    0.323     0.57     789.508   \n",
       "\n",
       "   r_pupil  r_code  \n",
       "0    3.819       0  \n",
       "1   -1.000       4  \n",
       "2    3.905       0  \n",
       "3    3.847       0  \n",
       "4    3.860       0  "
      ]
     },
     "execution_count": 27,
     "metadata": {},
     "output_type": "execute_result"
    }
   ],
   "source": [
    "gzd_graph.head()"
   ]
  },
  {
   "cell_type": "code",
   "execution_count": 28,
   "id": "16e8aa3d",
   "metadata": {},
   "outputs": [
    {
     "name": "stdout",
     "output_type": "stream",
     "text": [
      "Avg. pupil size of the left eye: 3.7356\n",
      "Avg. pupil size of the right eye: 3.6750\n",
      "Avg. pupil size of both eyes: 3.7053\n",
      "Wall time: 16 ms\n"
     ]
    }
   ],
   "source": [
    "%%time\n",
    "print_gaze_metrics(gzd_graph)"
   ]
  },
  {
   "cell_type": "code",
   "execution_count": 29,
   "id": "3af06cee",
   "metadata": {
    "scrolled": true
   },
   "outputs": [
    {
     "data": {
      "text/html": [
       "<div>\n",
       "<style scoped>\n",
       "    .dataframe tbody tr th:only-of-type {\n",
       "        vertical-align: middle;\n",
       "    }\n",
       "\n",
       "    .dataframe tbody tr th {\n",
       "        vertical-align: top;\n",
       "    }\n",
       "\n",
       "    .dataframe thead th {\n",
       "        text-align: right;\n",
       "    }\n",
       "</style>\n",
       "<table border=\"1\" class=\"dataframe\">\n",
       "  <thead>\n",
       "    <tr style=\"text-align: right;\">\n",
       "      <th></th>\n",
       "      <th>number</th>\n",
       "      <th>time</th>\n",
       "      <th>l_screen_x</th>\n",
       "      <th>l_screen_y</th>\n",
       "      <th>l_cam_x</th>\n",
       "      <th>l_cam_y</th>\n",
       "      <th>l_distance</th>\n",
       "      <th>l_pupil</th>\n",
       "      <th>l_code</th>\n",
       "      <th>r_screen_x</th>\n",
       "      <th>r_screen_y</th>\n",
       "      <th>r_cam_x</th>\n",
       "      <th>r_cam_y</th>\n",
       "      <th>r_distance</th>\n",
       "      <th>r_pupil</th>\n",
       "      <th>r_code</th>\n",
       "    </tr>\n",
       "  </thead>\n",
       "  <tbody>\n",
       "    <tr>\n",
       "      <th>0</th>\n",
       "      <td>1</td>\n",
       "      <td>1</td>\n",
       "      <td>-1280</td>\n",
       "      <td>-1024</td>\n",
       "      <td>-1.000</td>\n",
       "      <td>-1.000</td>\n",
       "      <td>-1.000</td>\n",
       "      <td>-1.000</td>\n",
       "      <td>4</td>\n",
       "      <td>-1280</td>\n",
       "      <td>-1024</td>\n",
       "      <td>-1.00</td>\n",
       "      <td>-1.000</td>\n",
       "      <td>-1.000</td>\n",
       "      <td>-1.000</td>\n",
       "      <td>4</td>\n",
       "    </tr>\n",
       "    <tr>\n",
       "      <th>1</th>\n",
       "      <td>21</td>\n",
       "      <td>2</td>\n",
       "      <td>604</td>\n",
       "      <td>403</td>\n",
       "      <td>0.637</td>\n",
       "      <td>0.617</td>\n",
       "      <td>837.210</td>\n",
       "      <td>4.227</td>\n",
       "      <td>0</td>\n",
       "      <td>610</td>\n",
       "      <td>380</td>\n",
       "      <td>0.42</td>\n",
       "      <td>0.633</td>\n",
       "      <td>840.635</td>\n",
       "      <td>3.994</td>\n",
       "      <td>0</td>\n",
       "    </tr>\n",
       "    <tr>\n",
       "      <th>2</th>\n",
       "      <td>41</td>\n",
       "      <td>3</td>\n",
       "      <td>-1280</td>\n",
       "      <td>-1024</td>\n",
       "      <td>-1.000</td>\n",
       "      <td>-1.000</td>\n",
       "      <td>-1.000</td>\n",
       "      <td>-1.000</td>\n",
       "      <td>4</td>\n",
       "      <td>-1280</td>\n",
       "      <td>-1024</td>\n",
       "      <td>-1.00</td>\n",
       "      <td>-1.000</td>\n",
       "      <td>-1.000</td>\n",
       "      <td>-1.000</td>\n",
       "      <td>4</td>\n",
       "    </tr>\n",
       "    <tr>\n",
       "      <th>3</th>\n",
       "      <td>61</td>\n",
       "      <td>4</td>\n",
       "      <td>-1280</td>\n",
       "      <td>-1024</td>\n",
       "      <td>0.637</td>\n",
       "      <td>0.617</td>\n",
       "      <td>-1.000</td>\n",
       "      <td>-1.000</td>\n",
       "      <td>4</td>\n",
       "      <td>-1280</td>\n",
       "      <td>-1024</td>\n",
       "      <td>0.42</td>\n",
       "      <td>0.633</td>\n",
       "      <td>-1.000</td>\n",
       "      <td>-1.000</td>\n",
       "      <td>4</td>\n",
       "    </tr>\n",
       "    <tr>\n",
       "      <th>4</th>\n",
       "      <td>80</td>\n",
       "      <td>5</td>\n",
       "      <td>610</td>\n",
       "      <td>412</td>\n",
       "      <td>0.637</td>\n",
       "      <td>0.617</td>\n",
       "      <td>836.477</td>\n",
       "      <td>4.224</td>\n",
       "      <td>0</td>\n",
       "      <td>608</td>\n",
       "      <td>387</td>\n",
       "      <td>0.42</td>\n",
       "      <td>0.633</td>\n",
       "      <td>838.594</td>\n",
       "      <td>4.117</td>\n",
       "      <td>0</td>\n",
       "    </tr>\n",
       "  </tbody>\n",
       "</table>\n",
       "</div>"
      ],
      "text/plain": [
       "   number  time  l_screen_x  l_screen_y  l_cam_x  l_cam_y  l_distance  \\\n",
       "0       1     1       -1280       -1024   -1.000   -1.000      -1.000   \n",
       "1      21     2         604         403    0.637    0.617     837.210   \n",
       "2      41     3       -1280       -1024   -1.000   -1.000      -1.000   \n",
       "3      61     4       -1280       -1024    0.637    0.617      -1.000   \n",
       "4      80     5         610         412    0.637    0.617     836.477   \n",
       "\n",
       "   l_pupil  l_code  r_screen_x  r_screen_y  r_cam_x  r_cam_y  r_distance  \\\n",
       "0   -1.000       4       -1280       -1024    -1.00   -1.000      -1.000   \n",
       "1    4.227       0         610         380     0.42    0.633     840.635   \n",
       "2   -1.000       4       -1280       -1024    -1.00   -1.000      -1.000   \n",
       "3   -1.000       4       -1280       -1024     0.42    0.633      -1.000   \n",
       "4    4.224       0         608         387     0.42    0.633     838.594   \n",
       "\n",
       "   r_pupil  r_code  \n",
       "0   -1.000       4  \n",
       "1    3.994       0  \n",
       "2   -1.000       4  \n",
       "3   -1.000       4  \n",
       "4    4.117       0  "
      ]
     },
     "execution_count": 29,
     "metadata": {},
     "output_type": "execute_result"
    }
   ],
   "source": [
    "gzd_tree.head()"
   ]
  },
  {
   "cell_type": "code",
   "execution_count": 30,
   "id": "2d8a3545",
   "metadata": {
    "scrolled": true
   },
   "outputs": [
    {
     "name": "stdout",
     "output_type": "stream",
     "text": [
      "Avg. pupil size of the left eye: 3.7422\n",
      "Avg. pupil size of the right eye: 3.6376\n",
      "Avg. pupil size of both eyes: 3.6899\n",
      "Wall time: 11 ms\n"
     ]
    }
   ],
   "source": [
    "%%time\n",
    "print_gaze_metrics(gzd_tree)"
   ]
  },
  {
   "cell_type": "markdown",
   "id": "595afdeb",
   "metadata": {},
   "source": [
    "# Transforming data"
   ]
  },
  {
   "cell_type": "markdown",
   "id": "4bd86610",
   "metadata": {},
   "source": [
    "## Additional data"
   ]
  },
  {
   "cell_type": "code",
   "execution_count": 17,
   "id": "7c61d085",
   "metadata": {},
   "outputs": [],
   "source": [
    "add_data = pd.read_csv('datasets/additional_participant_data.csv')"
   ]
  },
  {
   "cell_type": "code",
   "execution_count": 18,
   "id": "044df926",
   "metadata": {
    "scrolled": true
   },
   "outputs": [
    {
     "data": {
      "text/html": [
       "<div>\n",
       "<style scoped>\n",
       "    .dataframe tbody tr th:only-of-type {\n",
       "        vertical-align: middle;\n",
       "    }\n",
       "\n",
       "    .dataframe tbody tr th {\n",
       "        vertical-align: top;\n",
       "    }\n",
       "\n",
       "    .dataframe thead th {\n",
       "        text-align: right;\n",
       "    }\n",
       "</style>\n",
       "<table border=\"1\" class=\"dataframe\">\n",
       "  <thead>\n",
       "    <tr style=\"text-align: right;\">\n",
       "      <th></th>\n",
       "      <th>ID</th>\n",
       "      <th>Ontologies</th>\n",
       "      <th>Visualization</th>\n",
       "      <th>Task_Success</th>\n",
       "      <th>Time_On_Task</th>\n",
       "    </tr>\n",
       "  </thead>\n",
       "  <tbody>\n",
       "    <tr>\n",
       "      <th>0</th>\n",
       "      <td>p1</td>\n",
       "      <td>1</td>\n",
       "      <td>1</td>\n",
       "      <td>0.608696</td>\n",
       "      <td>26</td>\n",
       "    </tr>\n",
       "    <tr>\n",
       "      <th>1</th>\n",
       "      <td>p1</td>\n",
       "      <td>2</td>\n",
       "      <td>2</td>\n",
       "      <td>0.521739</td>\n",
       "      <td>38</td>\n",
       "    </tr>\n",
       "    <tr>\n",
       "      <th>2</th>\n",
       "      <td>p3</td>\n",
       "      <td>1</td>\n",
       "      <td>1</td>\n",
       "      <td>0.478261</td>\n",
       "      <td>10</td>\n",
       "    </tr>\n",
       "    <tr>\n",
       "      <th>3</th>\n",
       "      <td>p3</td>\n",
       "      <td>2</td>\n",
       "      <td>2</td>\n",
       "      <td>0.391304</td>\n",
       "      <td>50</td>\n",
       "    </tr>\n",
       "    <tr>\n",
       "      <th>4</th>\n",
       "      <td>p5</td>\n",
       "      <td>1</td>\n",
       "      <td>1</td>\n",
       "      <td>0.521739</td>\n",
       "      <td>22</td>\n",
       "    </tr>\n",
       "  </tbody>\n",
       "</table>\n",
       "</div>"
      ],
      "text/plain": [
       "   ID  Ontologies  Visualization  Task_Success  Time_On_Task\n",
       "0  p1           1              1      0.608696            26\n",
       "1  p1           2              2      0.521739            38\n",
       "2  p3           1              1      0.478261            10\n",
       "3  p3           2              2      0.391304            50\n",
       "4  p5           1              1      0.521739            22"
      ]
     },
     "execution_count": 18,
     "metadata": {},
     "output_type": "execute_result"
    }
   ],
   "source": [
    "add_data.head()"
   ]
  },
  {
   "cell_type": "code",
   "execution_count": 19,
   "id": "b8a01062",
   "metadata": {},
   "outputs": [
    {
     "data": {
      "text/html": [
       "<div>\n",
       "<style scoped>\n",
       "    .dataframe tbody tr th:only-of-type {\n",
       "        vertical-align: middle;\n",
       "    }\n",
       "\n",
       "    .dataframe tbody tr th {\n",
       "        vertical-align: top;\n",
       "    }\n",
       "\n",
       "    .dataframe thead th {\n",
       "        text-align: right;\n",
       "    }\n",
       "</style>\n",
       "<table border=\"1\" class=\"dataframe\">\n",
       "  <thead>\n",
       "    <tr style=\"text-align: right;\">\n",
       "      <th></th>\n",
       "      <th>Task_Success</th>\n",
       "    </tr>\n",
       "  </thead>\n",
       "  <tbody>\n",
       "    <tr>\n",
       "      <th>0.25</th>\n",
       "      <td>0.391304</td>\n",
       "    </tr>\n",
       "    <tr>\n",
       "      <th>0.50</th>\n",
       "      <td>0.478261</td>\n",
       "    </tr>\n",
       "    <tr>\n",
       "      <th>0.75</th>\n",
       "      <td>0.565217</td>\n",
       "    </tr>\n",
       "  </tbody>\n",
       "</table>\n",
       "</div>"
      ],
      "text/plain": [
       "      Task_Success\n",
       "0.25      0.391304\n",
       "0.50      0.478261\n",
       "0.75      0.565217"
      ]
     },
     "execution_count": 19,
     "metadata": {},
     "output_type": "execute_result"
    }
   ],
   "source": [
    "add_data[['Task_Success']].quantile([0.25,0.5,0.75])"
   ]
  },
  {
   "cell_type": "code",
   "execution_count": 20,
   "id": "2aa9355b",
   "metadata": {},
   "outputs": [
    {
     "data": {
      "text/plain": [
       "0      (0.565, 0.87]\n",
       "1     (0.478, 0.565]\n",
       "2     (0.391, 0.478]\n",
       "3     (0.086, 0.391]\n",
       "4     (0.478, 0.565]\n",
       "           ...      \n",
       "57    (0.086, 0.391]\n",
       "58     (0.565, 0.87]\n",
       "59    (0.478, 0.565]\n",
       "60    (0.391, 0.478]\n",
       "61    (0.478, 0.565]\n",
       "Name: Task_Success, Length: 62, dtype: category\n",
       "Categories (4, interval[float64, right]): [(0.086, 0.391] < (0.391, 0.478] < (0.478, 0.565] < (0.565, 0.87]]"
      ]
     },
     "execution_count": 20,
     "metadata": {},
     "output_type": "execute_result"
    }
   ],
   "source": [
    "pd.qcut(add_data['Task_Success'], 4)"
   ]
  },
  {
   "cell_type": "markdown",
   "id": "6fb75b71",
   "metadata": {},
   "source": [
    "### Overview"
   ]
  },
  {
   "cell_type": "code",
   "execution_count": 21,
   "id": "81c605bc",
   "metadata": {},
   "outputs": [],
   "source": [
    "# Divided by quantiles bottom 25% and top 25% value should be 19\n",
    "top_bot_n = 20"
   ]
  },
  {
   "cell_type": "code",
   "execution_count": 22,
   "id": "088e8da0",
   "metadata": {},
   "outputs": [
    {
     "data": {
      "text/html": [
       "<div>\n",
       "<style scoped>\n",
       "    .dataframe tbody tr th:only-of-type {\n",
       "        vertical-align: middle;\n",
       "    }\n",
       "\n",
       "    .dataframe tbody tr th {\n",
       "        vertical-align: top;\n",
       "    }\n",
       "\n",
       "    .dataframe thead th {\n",
       "        text-align: right;\n",
       "    }\n",
       "</style>\n",
       "<table border=\"1\" class=\"dataframe\">\n",
       "  <thead>\n",
       "    <tr style=\"text-align: right;\">\n",
       "      <th></th>\n",
       "      <th></th>\n",
       "      <th>Task_Success</th>\n",
       "      <th>Time_On_Task</th>\n",
       "    </tr>\n",
       "    <tr>\n",
       "      <th>Ontologies</th>\n",
       "      <th>Visualization</th>\n",
       "      <th></th>\n",
       "      <th></th>\n",
       "    </tr>\n",
       "  </thead>\n",
       "  <tbody>\n",
       "    <tr>\n",
       "      <th rowspan=\"2\" valign=\"top\">1</th>\n",
       "      <th>1</th>\n",
       "      <td>0.494565</td>\n",
       "      <td>17.625000</td>\n",
       "    </tr>\n",
       "    <tr>\n",
       "      <th>2</th>\n",
       "      <td>0.501449</td>\n",
       "      <td>22.000000</td>\n",
       "    </tr>\n",
       "    <tr>\n",
       "      <th rowspan=\"2\" valign=\"top\">2</th>\n",
       "      <th>1</th>\n",
       "      <td>0.513043</td>\n",
       "      <td>24.666667</td>\n",
       "    </tr>\n",
       "    <tr>\n",
       "      <th>2</th>\n",
       "      <td>0.407609</td>\n",
       "      <td>35.187500</td>\n",
       "    </tr>\n",
       "  </tbody>\n",
       "</table>\n",
       "</div>"
      ],
      "text/plain": [
       "                          Task_Success  Time_On_Task\n",
       "Ontologies Visualization                            \n",
       "1          1                  0.494565     17.625000\n",
       "           2                  0.501449     22.000000\n",
       "2          1                  0.513043     24.666667\n",
       "           2                  0.407609     35.187500"
      ]
     },
     "execution_count": 22,
     "metadata": {},
     "output_type": "execute_result"
    }
   ],
   "source": [
    "add_data.groupby(by=['Ontologies','Visualization']).mean(numeric_only=True)"
   ]
  },
  {
   "cell_type": "code",
   "execution_count": 45,
   "id": "2df227dd",
   "metadata": {},
   "outputs": [
    {
     "data": {
      "text/plain": [
       "<AxesSubplot:xlabel='Visualization', ylabel='Task_Success'>"
      ]
     },
     "execution_count": 45,
     "metadata": {},
     "output_type": "execute_result"
    },
    {
     "data": {
      "image/png": "[encoded data removed]",
      "text/plain": [
       "<Figure size 360x360 with 1 Axes>"
      ]
     },
     "metadata": {
      "needs_background": "light"
     },
     "output_type": "display_data"
    }
   ],
   "source": [
    "# Plotting task success distribution per visualization\n",
    "fig, ax = plt.subplots(figsize = (5,5))\n",
    "sns.boxplot(data = add_data, x=\"Visualization\",y = \"Task_Success\",hue = \"Ontologies\",palette = 'Set2')\n",
    "# plt.show()\n",
    "# (\n",
    "#     ggplot(add_data) +\n",
    "#     aes(x='factor(Visualization)', y='Task_Success', color='factor(Ontologies)') +\n",
    "#     geom_boxplot() +\n",
    "#     labs(x='Visualization', y='Task Success (%)')\n",
    "# )"
   ]
  },
  {
   "cell_type": "markdown",
   "id": "27b3d9d8",
   "metadata": {},
   "source": [
    "### Top 25%"
   ]
  },
  {
   "cell_type": "code",
   "execution_count": 23,
   "id": "6fc3424a",
   "metadata": {
    "scrolled": false
   },
   "outputs": [
    {
     "data": {
      "text/html": [
       "<div>\n",
       "<style scoped>\n",
       "    .dataframe tbody tr th:only-of-type {\n",
       "        vertical-align: middle;\n",
       "    }\n",
       "\n",
       "    .dataframe tbody tr th {\n",
       "        vertical-align: top;\n",
       "    }\n",
       "\n",
       "    .dataframe thead th {\n",
       "        text-align: right;\n",
       "    }\n",
       "</style>\n",
       "<table border=\"1\" class=\"dataframe\">\n",
       "  <thead>\n",
       "    <tr style=\"text-align: right;\">\n",
       "      <th></th>\n",
       "      <th>ID</th>\n",
       "      <th>Ontologies</th>\n",
       "      <th>Visualization</th>\n",
       "      <th>Task_Success</th>\n",
       "      <th>Time_On_Task</th>\n",
       "      <th>Category</th>\n",
       "    </tr>\n",
       "  </thead>\n",
       "  <tbody>\n",
       "    <tr>\n",
       "      <th>0</th>\n",
       "      <td>p6</td>\n",
       "      <td>1</td>\n",
       "      <td>2</td>\n",
       "      <td>0.869565</td>\n",
       "      <td>26</td>\n",
       "      <td>top</td>\n",
       "    </tr>\n",
       "    <tr>\n",
       "      <th>1</th>\n",
       "      <td>p18</td>\n",
       "      <td>1</td>\n",
       "      <td>2</td>\n",
       "      <td>0.739130</td>\n",
       "      <td>21</td>\n",
       "      <td>top</td>\n",
       "    </tr>\n",
       "    <tr>\n",
       "      <th>2</th>\n",
       "      <td>p24</td>\n",
       "      <td>2</td>\n",
       "      <td>1</td>\n",
       "      <td>0.739130</td>\n",
       "      <td>25</td>\n",
       "      <td>top</td>\n",
       "    </tr>\n",
       "    <tr>\n",
       "      <th>3</th>\n",
       "      <td>p6</td>\n",
       "      <td>2</td>\n",
       "      <td>1</td>\n",
       "      <td>0.739130</td>\n",
       "      <td>43</td>\n",
       "      <td>top</td>\n",
       "    </tr>\n",
       "    <tr>\n",
       "      <th>4</th>\n",
       "      <td>p12</td>\n",
       "      <td>2</td>\n",
       "      <td>1</td>\n",
       "      <td>0.695652</td>\n",
       "      <td>11</td>\n",
       "      <td>top</td>\n",
       "    </tr>\n",
       "    <tr>\n",
       "      <th>5</th>\n",
       "      <td>p35</td>\n",
       "      <td>1</td>\n",
       "      <td>1</td>\n",
       "      <td>0.608696</td>\n",
       "      <td>9</td>\n",
       "      <td>top</td>\n",
       "    </tr>\n",
       "    <tr>\n",
       "      <th>6</th>\n",
       "      <td>p10</td>\n",
       "      <td>1</td>\n",
       "      <td>2</td>\n",
       "      <td>0.608696</td>\n",
       "      <td>17</td>\n",
       "      <td>top</td>\n",
       "    </tr>\n",
       "    <tr>\n",
       "      <th>7</th>\n",
       "      <td>p17</td>\n",
       "      <td>2</td>\n",
       "      <td>2</td>\n",
       "      <td>0.608696</td>\n",
       "      <td>22</td>\n",
       "      <td>top</td>\n",
       "    </tr>\n",
       "    <tr>\n",
       "      <th>8</th>\n",
       "      <td>p1</td>\n",
       "      <td>1</td>\n",
       "      <td>1</td>\n",
       "      <td>0.608696</td>\n",
       "      <td>26</td>\n",
       "      <td>top</td>\n",
       "    </tr>\n",
       "    <tr>\n",
       "      <th>9</th>\n",
       "      <td>p34</td>\n",
       "      <td>1</td>\n",
       "      <td>2</td>\n",
       "      <td>0.608696</td>\n",
       "      <td>38</td>\n",
       "      <td>top</td>\n",
       "    </tr>\n",
       "    <tr>\n",
       "      <th>10</th>\n",
       "      <td>p21</td>\n",
       "      <td>2</td>\n",
       "      <td>2</td>\n",
       "      <td>0.565217</td>\n",
       "      <td>6</td>\n",
       "      <td>top</td>\n",
       "    </tr>\n",
       "    <tr>\n",
       "      <th>11</th>\n",
       "      <td>p15</td>\n",
       "      <td>2</td>\n",
       "      <td>2</td>\n",
       "      <td>0.565217</td>\n",
       "      <td>13</td>\n",
       "      <td>top</td>\n",
       "    </tr>\n",
       "    <tr>\n",
       "      <th>12</th>\n",
       "      <td>p23</td>\n",
       "      <td>1</td>\n",
       "      <td>1</td>\n",
       "      <td>0.565217</td>\n",
       "      <td>13</td>\n",
       "      <td>top</td>\n",
       "    </tr>\n",
       "    <tr>\n",
       "      <th>13</th>\n",
       "      <td>p19</td>\n",
       "      <td>1</td>\n",
       "      <td>1</td>\n",
       "      <td>0.565217</td>\n",
       "      <td>14</td>\n",
       "      <td>top</td>\n",
       "    </tr>\n",
       "    <tr>\n",
       "      <th>14</th>\n",
       "      <td>p7</td>\n",
       "      <td>1</td>\n",
       "      <td>1</td>\n",
       "      <td>0.565217</td>\n",
       "      <td>16</td>\n",
       "      <td>top</td>\n",
       "    </tr>\n",
       "    <tr>\n",
       "      <th>15</th>\n",
       "      <td>p18</td>\n",
       "      <td>2</td>\n",
       "      <td>1</td>\n",
       "      <td>0.565217</td>\n",
       "      <td>27</td>\n",
       "      <td>top</td>\n",
       "    </tr>\n",
       "    <tr>\n",
       "      <th>16</th>\n",
       "      <td>p24</td>\n",
       "      <td>1</td>\n",
       "      <td>2</td>\n",
       "      <td>0.565217</td>\n",
       "      <td>32</td>\n",
       "      <td>top</td>\n",
       "    </tr>\n",
       "    <tr>\n",
       "      <th>17</th>\n",
       "      <td>p25</td>\n",
       "      <td>1</td>\n",
       "      <td>1</td>\n",
       "      <td>0.565217</td>\n",
       "      <td>34</td>\n",
       "      <td>top</td>\n",
       "    </tr>\n",
       "    <tr>\n",
       "      <th>18</th>\n",
       "      <td>p34</td>\n",
       "      <td>2</td>\n",
       "      <td>1</td>\n",
       "      <td>0.565217</td>\n",
       "      <td>49</td>\n",
       "      <td>top</td>\n",
       "    </tr>\n",
       "    <tr>\n",
       "      <th>19</th>\n",
       "      <td>p15</td>\n",
       "      <td>1</td>\n",
       "      <td>1</td>\n",
       "      <td>0.521739</td>\n",
       "      <td>9</td>\n",
       "      <td>top</td>\n",
       "    </tr>\n",
       "  </tbody>\n",
       "</table>\n",
       "</div>"
      ],
      "text/plain": [
       "     ID  Ontologies  Visualization  Task_Success  Time_On_Task Category\n",
       "0    p6           1              2      0.869565            26      top\n",
       "1   p18           1              2      0.739130            21      top\n",
       "2   p24           2              1      0.739130            25      top\n",
       "3    p6           2              1      0.739130            43      top\n",
       "4   p12           2              1      0.695652            11      top\n",
       "5   p35           1              1      0.608696             9      top\n",
       "6   p10           1              2      0.608696            17      top\n",
       "7   p17           2              2      0.608696            22      top\n",
       "8    p1           1              1      0.608696            26      top\n",
       "9   p34           1              2      0.608696            38      top\n",
       "10  p21           2              2      0.565217             6      top\n",
       "11  p15           2              2      0.565217            13      top\n",
       "12  p23           1              1      0.565217            13      top\n",
       "13  p19           1              1      0.565217            14      top\n",
       "14   p7           1              1      0.565217            16      top\n",
       "15  p18           2              1      0.565217            27      top\n",
       "16  p24           1              2      0.565217            32      top\n",
       "17  p25           1              1      0.565217            34      top\n",
       "18  p34           2              1      0.565217            49      top\n",
       "19  p15           1              1      0.521739             9      top"
      ]
     },
     "execution_count": 23,
     "metadata": {},
     "output_type": "execute_result"
    }
   ],
   "source": [
    "top = add_data.copy()\n",
    "top.sort_values(by=['Task_Success','Time_On_Task'], ascending=[False,True], inplace=True)\n",
    "top.reset_index(drop=True, inplace=True)\n",
    "top = top.head(top_bot_n)\n",
    "top['Category'] = 'top'\n",
    "top"
   ]
  },
  {
   "cell_type": "code",
   "execution_count": 24,
   "id": "2522ac92",
   "metadata": {
    "scrolled": true
   },
   "outputs": [
    {
     "data": {
      "text/html": [
       "<div>\n",
       "<style scoped>\n",
       "    .dataframe tbody tr th:only-of-type {\n",
       "        vertical-align: middle;\n",
       "    }\n",
       "\n",
       "    .dataframe tbody tr th {\n",
       "        vertical-align: top;\n",
       "    }\n",
       "\n",
       "    .dataframe thead th {\n",
       "        text-align: right;\n",
       "    }\n",
       "</style>\n",
       "<table border=\"1\" class=\"dataframe\">\n",
       "  <thead>\n",
       "    <tr style=\"text-align: right;\">\n",
       "      <th></th>\n",
       "      <th></th>\n",
       "      <th>Task_Success</th>\n",
       "      <th>Time_On_Task</th>\n",
       "    </tr>\n",
       "    <tr>\n",
       "      <th>Ontologies</th>\n",
       "      <th>Visualization</th>\n",
       "      <th></th>\n",
       "      <th></th>\n",
       "    </tr>\n",
       "  </thead>\n",
       "  <tbody>\n",
       "    <tr>\n",
       "      <th rowspan=\"2\" valign=\"top\">1</th>\n",
       "      <th>1</th>\n",
       "      <td>0.571429</td>\n",
       "      <td>17.285714</td>\n",
       "    </tr>\n",
       "    <tr>\n",
       "      <th>2</th>\n",
       "      <td>0.678261</td>\n",
       "      <td>26.800000</td>\n",
       "    </tr>\n",
       "    <tr>\n",
       "      <th rowspan=\"2\" valign=\"top\">2</th>\n",
       "      <th>1</th>\n",
       "      <td>0.660870</td>\n",
       "      <td>31.000000</td>\n",
       "    </tr>\n",
       "    <tr>\n",
       "      <th>2</th>\n",
       "      <td>0.579710</td>\n",
       "      <td>13.666667</td>\n",
       "    </tr>\n",
       "  </tbody>\n",
       "</table>\n",
       "</div>"
      ],
      "text/plain": [
       "                          Task_Success  Time_On_Task\n",
       "Ontologies Visualization                            \n",
       "1          1                  0.571429     17.285714\n",
       "           2                  0.678261     26.800000\n",
       "2          1                  0.660870     31.000000\n",
       "           2                  0.579710     13.666667"
      ]
     },
     "execution_count": 24,
     "metadata": {},
     "output_type": "execute_result"
    }
   ],
   "source": [
    "top[['Ontologies','Visualization','Task_Success','Time_On_Task']].groupby(by=['Ontologies','Visualization']).mean(numeric_only=True)"
   ]
  },
  {
   "cell_type": "code",
   "execution_count": 25,
   "id": "757e30a7",
   "metadata": {
    "scrolled": false
   },
   "outputs": [
    {
     "name": "stdout",
     "output_type": "stream",
     "text": [
      "6\n",
      "18\n",
      "24\n",
      "6\n",
      "12\n",
      "35\n",
      "10\n",
      "17\n",
      "1\n",
      "34\n",
      "21\n",
      "15\n",
      "23\n",
      "19\n",
      "7\n",
      "18\n",
      "24\n",
      "25\n",
      "34\n",
      "15\n",
      "Wall time: 2min 38s\n"
     ]
    }
   ],
   "source": [
    "%%time\n",
    "top = top.apply(get_metrics_df, axis=1)"
   ]
  },
  {
   "cell_type": "code",
   "execution_count": 99,
   "id": "d965d88a",
   "metadata": {},
   "outputs": [],
   "source": [
    "top.to_csv(f'datasets/top{top_bot_n}.csv', sep=',')"
   ]
  },
  {
   "cell_type": "markdown",
   "id": "26c3fa7e",
   "metadata": {},
   "source": [
    "### Bottom 25%"
   ]
  },
  {
   "cell_type": "code",
   "execution_count": 28,
   "id": "26265bf9",
   "metadata": {
    "scrolled": false
   },
   "outputs": [
    {
     "data": {
      "text/html": [
       "<div>\n",
       "<style scoped>\n",
       "    .dataframe tbody tr th:only-of-type {\n",
       "        vertical-align: middle;\n",
       "    }\n",
       "\n",
       "    .dataframe tbody tr th {\n",
       "        vertical-align: top;\n",
       "    }\n",
       "\n",
       "    .dataframe thead th {\n",
       "        text-align: right;\n",
       "    }\n",
       "</style>\n",
       "<table border=\"1\" class=\"dataframe\">\n",
       "  <thead>\n",
       "    <tr style=\"text-align: right;\">\n",
       "      <th></th>\n",
       "      <th>ID</th>\n",
       "      <th>Ontologies</th>\n",
       "      <th>Visualization</th>\n",
       "      <th>Task_Success</th>\n",
       "      <th>Time_On_Task</th>\n",
       "      <th>Category</th>\n",
       "    </tr>\n",
       "  </thead>\n",
       "  <tbody>\n",
       "    <tr>\n",
       "      <th>0</th>\n",
       "      <td>p27</td>\n",
       "      <td>2</td>\n",
       "      <td>2</td>\n",
       "      <td>0.086957</td>\n",
       "      <td>50</td>\n",
       "      <td>bottom</td>\n",
       "    </tr>\n",
       "    <tr>\n",
       "      <th>1</th>\n",
       "      <td>p7</td>\n",
       "      <td>2</td>\n",
       "      <td>2</td>\n",
       "      <td>0.086957</td>\n",
       "      <td>20</td>\n",
       "      <td>bottom</td>\n",
       "    </tr>\n",
       "    <tr>\n",
       "      <th>2</th>\n",
       "      <td>p14</td>\n",
       "      <td>2</td>\n",
       "      <td>1</td>\n",
       "      <td>0.217391</td>\n",
       "      <td>28</td>\n",
       "      <td>bottom</td>\n",
       "    </tr>\n",
       "    <tr>\n",
       "      <th>3</th>\n",
       "      <td>p27</td>\n",
       "      <td>1</td>\n",
       "      <td>1</td>\n",
       "      <td>0.260870</td>\n",
       "      <td>13</td>\n",
       "      <td>bottom</td>\n",
       "    </tr>\n",
       "    <tr>\n",
       "      <th>4</th>\n",
       "      <td>p32</td>\n",
       "      <td>1</td>\n",
       "      <td>2</td>\n",
       "      <td>0.304348</td>\n",
       "      <td>21</td>\n",
       "      <td>bottom</td>\n",
       "    </tr>\n",
       "    <tr>\n",
       "      <th>5</th>\n",
       "      <td>p12</td>\n",
       "      <td>1</td>\n",
       "      <td>2</td>\n",
       "      <td>0.304348</td>\n",
       "      <td>17</td>\n",
       "      <td>bottom</td>\n",
       "    </tr>\n",
       "    <tr>\n",
       "      <th>6</th>\n",
       "      <td>p25</td>\n",
       "      <td>2</td>\n",
       "      <td>2</td>\n",
       "      <td>0.347826</td>\n",
       "      <td>39</td>\n",
       "      <td>bottom</td>\n",
       "    </tr>\n",
       "    <tr>\n",
       "      <th>7</th>\n",
       "      <td>p11</td>\n",
       "      <td>2</td>\n",
       "      <td>2</td>\n",
       "      <td>0.347826</td>\n",
       "      <td>33</td>\n",
       "      <td>bottom</td>\n",
       "    </tr>\n",
       "    <tr>\n",
       "      <th>8</th>\n",
       "      <td>p33</td>\n",
       "      <td>2</td>\n",
       "      <td>2</td>\n",
       "      <td>0.347826</td>\n",
       "      <td>27</td>\n",
       "      <td>bottom</td>\n",
       "    </tr>\n",
       "    <tr>\n",
       "      <th>9</th>\n",
       "      <td>p2</td>\n",
       "      <td>1</td>\n",
       "      <td>2</td>\n",
       "      <td>0.347826</td>\n",
       "      <td>19</td>\n",
       "      <td>bottom</td>\n",
       "    </tr>\n",
       "    <tr>\n",
       "      <th>10</th>\n",
       "      <td>p32</td>\n",
       "      <td>2</td>\n",
       "      <td>1</td>\n",
       "      <td>0.347826</td>\n",
       "      <td>12</td>\n",
       "      <td>bottom</td>\n",
       "    </tr>\n",
       "    <tr>\n",
       "      <th>11</th>\n",
       "      <td>p23</td>\n",
       "      <td>2</td>\n",
       "      <td>2</td>\n",
       "      <td>0.391304</td>\n",
       "      <td>58</td>\n",
       "      <td>bottom</td>\n",
       "    </tr>\n",
       "    <tr>\n",
       "      <th>12</th>\n",
       "      <td>p3</td>\n",
       "      <td>2</td>\n",
       "      <td>2</td>\n",
       "      <td>0.391304</td>\n",
       "      <td>50</td>\n",
       "      <td>bottom</td>\n",
       "    </tr>\n",
       "    <tr>\n",
       "      <th>13</th>\n",
       "      <td>p20</td>\n",
       "      <td>1</td>\n",
       "      <td>2</td>\n",
       "      <td>0.391304</td>\n",
       "      <td>30</td>\n",
       "      <td>bottom</td>\n",
       "    </tr>\n",
       "    <tr>\n",
       "      <th>14</th>\n",
       "      <td>p13</td>\n",
       "      <td>2</td>\n",
       "      <td>2</td>\n",
       "      <td>0.391304</td>\n",
       "      <td>27</td>\n",
       "      <td>bottom</td>\n",
       "    </tr>\n",
       "    <tr>\n",
       "      <th>15</th>\n",
       "      <td>p2</td>\n",
       "      <td>2</td>\n",
       "      <td>1</td>\n",
       "      <td>0.391304</td>\n",
       "      <td>25</td>\n",
       "      <td>bottom</td>\n",
       "    </tr>\n",
       "    <tr>\n",
       "      <th>16</th>\n",
       "      <td>p30</td>\n",
       "      <td>1</td>\n",
       "      <td>2</td>\n",
       "      <td>0.391304</td>\n",
       "      <td>23</td>\n",
       "      <td>bottom</td>\n",
       "    </tr>\n",
       "    <tr>\n",
       "      <th>17</th>\n",
       "      <td>p31</td>\n",
       "      <td>1</td>\n",
       "      <td>1</td>\n",
       "      <td>0.391304</td>\n",
       "      <td>14</td>\n",
       "      <td>bottom</td>\n",
       "    </tr>\n",
       "    <tr>\n",
       "      <th>18</th>\n",
       "      <td>p4</td>\n",
       "      <td>1</td>\n",
       "      <td>2</td>\n",
       "      <td>0.391304</td>\n",
       "      <td>12</td>\n",
       "      <td>bottom</td>\n",
       "    </tr>\n",
       "    <tr>\n",
       "      <th>19</th>\n",
       "      <td>p19</td>\n",
       "      <td>2</td>\n",
       "      <td>2</td>\n",
       "      <td>0.434783</td>\n",
       "      <td>72</td>\n",
       "      <td>bottom</td>\n",
       "    </tr>\n",
       "  </tbody>\n",
       "</table>\n",
       "</div>"
      ],
      "text/plain": [
       "     ID  Ontologies  Visualization  Task_Success  Time_On_Task Category\n",
       "0   p27           2              2      0.086957            50   bottom\n",
       "1    p7           2              2      0.086957            20   bottom\n",
       "2   p14           2              1      0.217391            28   bottom\n",
       "3   p27           1              1      0.260870            13   bottom\n",
       "4   p32           1              2      0.304348            21   bottom\n",
       "5   p12           1              2      0.304348            17   bottom\n",
       "6   p25           2              2      0.347826            39   bottom\n",
       "7   p11           2              2      0.347826            33   bottom\n",
       "8   p33           2              2      0.347826            27   bottom\n",
       "9    p2           1              2      0.347826            19   bottom\n",
       "10  p32           2              1      0.347826            12   bottom\n",
       "11  p23           2              2      0.391304            58   bottom\n",
       "12   p3           2              2      0.391304            50   bottom\n",
       "13  p20           1              2      0.391304            30   bottom\n",
       "14  p13           2              2      0.391304            27   bottom\n",
       "15   p2           2              1      0.391304            25   bottom\n",
       "16  p30           1              2      0.391304            23   bottom\n",
       "17  p31           1              1      0.391304            14   bottom\n",
       "18   p4           1              2      0.391304            12   bottom\n",
       "19  p19           2              2      0.434783            72   bottom"
      ]
     },
     "execution_count": 28,
     "metadata": {},
     "output_type": "execute_result"
    }
   ],
   "source": [
    "bottom = add_data.copy()\n",
    "bottom.sort_values(by=['Task_Success','Time_On_Task'], ascending=[True,False], inplace=True)\n",
    "bottom.reset_index(drop=True, inplace=True)\n",
    "bottom = bottom.head(top_bot_n)\n",
    "bottom['Category'] = 'bottom'\n",
    "bottom"
   ]
  },
  {
   "cell_type": "code",
   "execution_count": 29,
   "id": "0d38518f",
   "metadata": {},
   "outputs": [
    {
     "data": {
      "text/html": [
       "<div>\n",
       "<style scoped>\n",
       "    .dataframe tbody tr th:only-of-type {\n",
       "        vertical-align: middle;\n",
       "    }\n",
       "\n",
       "    .dataframe tbody tr th {\n",
       "        vertical-align: top;\n",
       "    }\n",
       "\n",
       "    .dataframe thead th {\n",
       "        text-align: right;\n",
       "    }\n",
       "</style>\n",
       "<table border=\"1\" class=\"dataframe\">\n",
       "  <thead>\n",
       "    <tr style=\"text-align: right;\">\n",
       "      <th></th>\n",
       "      <th></th>\n",
       "      <th>Task_Success</th>\n",
       "      <th>Time_On_Task</th>\n",
       "    </tr>\n",
       "    <tr>\n",
       "      <th>Ontologies</th>\n",
       "      <th>Visualization</th>\n",
       "      <th></th>\n",
       "      <th></th>\n",
       "    </tr>\n",
       "  </thead>\n",
       "  <tbody>\n",
       "    <tr>\n",
       "      <th rowspan=\"2\" valign=\"top\">1</th>\n",
       "      <th>1</th>\n",
       "      <td>0.326087</td>\n",
       "      <td>13.500000</td>\n",
       "    </tr>\n",
       "    <tr>\n",
       "      <th>2</th>\n",
       "      <td>0.355072</td>\n",
       "      <td>20.333333</td>\n",
       "    </tr>\n",
       "    <tr>\n",
       "      <th rowspan=\"2\" valign=\"top\">2</th>\n",
       "      <th>1</th>\n",
       "      <td>0.318841</td>\n",
       "      <td>21.666667</td>\n",
       "    </tr>\n",
       "    <tr>\n",
       "      <th>2</th>\n",
       "      <td>0.314010</td>\n",
       "      <td>41.777778</td>\n",
       "    </tr>\n",
       "  </tbody>\n",
       "</table>\n",
       "</div>"
      ],
      "text/plain": [
       "                          Task_Success  Time_On_Task\n",
       "Ontologies Visualization                            \n",
       "1          1                  0.326087     13.500000\n",
       "           2                  0.355072     20.333333\n",
       "2          1                  0.318841     21.666667\n",
       "           2                  0.314010     41.777778"
      ]
     },
     "execution_count": 29,
     "metadata": {},
     "output_type": "execute_result"
    }
   ],
   "source": [
    "bottom[['Ontologies','Visualization','Task_Success','Time_On_Task']].groupby(by=['Ontologies','Visualization']).mean(numeric_only=True)"
   ]
  },
  {
   "cell_type": "code",
   "execution_count": 30,
   "id": "b7756274",
   "metadata": {},
   "outputs": [
    {
     "name": "stdout",
     "output_type": "stream",
     "text": [
      "27\n",
      "7\n",
      "14\n",
      "27\n",
      "32\n",
      "12\n",
      "25\n",
      "11\n",
      "33\n",
      "2\n",
      "32\n",
      "23\n",
      "3\n",
      "20\n",
      "13\n",
      "2\n",
      "30\n",
      "31\n",
      "4\n",
      "19\n",
      "Wall time: 1min 55s\n"
     ]
    }
   ],
   "source": [
    "%%time\n",
    "bottom = bottom.apply(get_metrics_df, axis=1)"
   ]
  },
  {
   "cell_type": "code",
   "execution_count": 103,
   "id": "e33c3805",
   "metadata": {},
   "outputs": [],
   "source": [
    "bottom.to_csv(f'datasets/bottom{top_bot_n}.csv', sep=',')"
   ]
  },
  {
   "cell_type": "code",
   "execution_count": 31,
   "id": "4d9a67c3",
   "metadata": {},
   "outputs": [],
   "source": [
    "df = top.copy()\n",
    "df2 = bottom.copy()\n",
    "top_bottom_group = pd.concat([df,df2])\n",
    "top_bottom_group.to_csv(f'datasets/top_bottom_{top_bot_n}.csv', sep=',')"
   ]
  },
  {
   "cell_type": "code",
   "execution_count": 115,
   "id": "31aa0f11",
   "metadata": {},
   "outputs": [
    {
     "data": {
      "text/plain": [
       "<AxesSubplot:xlabel='Category', ylabel='Task_Success'>"
      ]
     },
     "execution_count": 115,
     "metadata": {},
     "output_type": "execute_result"
    },
    {
     "data": {
      "image/png": "[encoded data removed]",
      "text/plain": [
       "<Figure size 360x360 with 1 Axes>"
      ]
     },
     "metadata": {
      "needs_background": "light"
     },
     "output_type": "display_data"
    }
   ],
   "source": [
    "fig, ax = plt.subplots(figsize = (5,5))\n",
    "sns.boxplot(data=top_bottom_group, x=\"Category\",y = \"Task_Success\",hue = \"Visualization\",palette = 'pastel')"
   ]
  },
  {
   "cell_type": "code",
   "execution_count": 116,
   "id": "4fd05646",
   "metadata": {},
   "outputs": [
    {
     "data": {
      "text/plain": [
       "<AxesSubplot:xlabel='Category', ylabel='Time_On_Task'>"
      ]
     },
     "execution_count": 116,
     "metadata": {},
     "output_type": "execute_result"
    },
    {
     "data": {
      "image/png": "[encoded data removed]",
      "text/plain": [
       "<Figure size 360x360 with 1 Axes>"
      ]
     },
     "metadata": {
      "needs_background": "light"
     },
     "output_type": "display_data"
    }
   ],
   "source": [
    "fig, ax = plt.subplots(figsize = (5,5))\n",
    "sns.boxplot(data=top_bottom_group, x=\"Category\",y = \"Time_On_Task\",hue = \"Visualization\",palette = 'Spectral')"
   ]
  },
  {
   "cell_type": "code",
   "execution_count": 106,
   "id": "2a5ca144",
   "metadata": {},
   "outputs": [
    {
     "data": {
      "text/plain": [
       "<AxesSubplot:xlabel='Category', ylabel='total_fixations'>"
      ]
     },
     "execution_count": 106,
     "metadata": {},
     "output_type": "execute_result"
    },
    {
     "data": {
      "image/png": "[encoded data removed]",
      "text/plain": [
       "<Figure size 360x360 with 1 Axes>"
      ]
     },
     "metadata": {
      "needs_background": "light"
     },
     "output_type": "display_data"
    }
   ],
   "source": [
    "fig, ax = plt.subplots(figsize = (5,5))\n",
    "sns.boxplot(data=top_bottom_group, x=\"Category\",y = \"total_fixations\",hue = \"Visualization\",palette = 'Set2')"
   ]
  },
  {
   "cell_type": "code",
   "execution_count": 117,
   "id": "930e7f59",
   "metadata": {},
   "outputs": [
    {
     "data": {
      "text/plain": [
       "<AxesSubplot:xlabel='Category', ylabel='mean_saccade_length'>"
      ]
     },
     "execution_count": 117,
     "metadata": {},
     "output_type": "execute_result"
    },
    {
     "data": {
      "image/png": "[encoded data removed]",
      "text/plain": [
       "<Figure size 360x360 with 1 Axes>"
      ]
     },
     "metadata": {
      "needs_background": "light"
     },
     "output_type": "display_data"
    }
   ],
   "source": [
    "fig, ax = plt.subplots(figsize = (5,5))\n",
    "sns.boxplot(data=top_bottom_group, x=\"Category\",y = \"mean_saccade_length\",hue = \"Visualization\",palette = 'flare')"
   ]
  },
  {
   "cell_type": "code",
   "execution_count": 118,
   "id": "4ab7d084",
   "metadata": {},
   "outputs": [
    {
     "data": {
      "text/plain": [
       "<AxesSubplot:xlabel='Category', ylabel='mean_fixation_duration'>"
      ]
     },
     "execution_count": 118,
     "metadata": {},
     "output_type": "execute_result"
    },
    {
     "data": {
      "image/png": "[encoded data removed]",
      "text/plain": [
       "<Figure size 360x360 with 1 Axes>"
      ]
     },
     "metadata": {
      "needs_background": "light"
     },
     "output_type": "display_data"
    }
   ],
   "source": [
    "fig, ax = plt.subplots(figsize = (5,5))\n",
    "sns.boxplot(data=top_bottom_group, x=\"Category\",y = \"mean_fixation_duration\",hue = \"Visualization\",palette = 'husl')"
   ]
  },
  {
   "cell_type": "code",
   "execution_count": 33,
   "id": "ece2dd17",
   "metadata": {},
   "outputs": [
    {
     "data": {
      "text/plain": [
       "<AxesSubplot:xlabel='Category', ylabel='ratio'>"
      ]
     },
     "execution_count": 33,
     "metadata": {},
     "output_type": "execute_result"
    },
    {
     "data": {
      "image/png": "[encoded data removed]",
      "text/plain": [
       "<Figure size 360x360 with 1 Axes>"
      ]
     },
     "metadata": {
      "needs_background": "light"
     },
     "output_type": "display_data"
    }
   ],
   "source": [
    "top_bottom_group['ratio'] = top_bottom_group['sum_saccade_duration']/top_bottom_group['sum_fixation_duration']\n",
    "\n",
    "fig, ax = plt.subplots(figsize = (5,5))\n",
    "sns.boxplot(data=top_bottom_group, x=\"Category\",y = \"ratio\",hue = \"Visualization\",palette = 'husl')"
   ]
  },
  {
   "cell_type": "markdown",
   "id": "de10172b",
   "metadata": {},
   "source": [
    "# Features comparison"
   ]
  },
  {
   "cell_type": "code",
   "execution_count": 107,
   "id": "5c30e4c7",
   "metadata": {},
   "outputs": [],
   "source": [
    "df = top.copy()\n",
    "df2 = bottom.copy()\n",
    "df['group'] = 'Top'\n",
    "df2['group'] = 'Bottom'\n",
    "\n",
    "groups_metrics = pd.concat([df,df2])"
   ]
  },
  {
   "cell_type": "code",
   "execution_count": 109,
   "id": "f40cb1b3",
   "metadata": {},
   "outputs": [],
   "source": [
    "groups_metrics.to_csv(f'datasets/groups_metrics.csv', sep=',')"
   ]
  },
  {
   "cell_type": "code",
   "execution_count": 111,
   "id": "4b62651b",
   "metadata": {
    "scrolled": false
   },
   "outputs": [
    {
     "name": "stderr",
     "output_type": "stream",
     "text": [
      "C:\\Users\\sagar\\AppData\\Local\\Temp/ipykernel_23392/3726037466.py:3: FutureWarning: The default value of numeric_only in DataFrame.mean is deprecated. In a future version, it will default to False. In addition, specifying 'numeric_only=None' is deprecated. Select only valid columns or specify the value of numeric_only to silence this warning.\n",
      "  comp = mean_top.mean().to_frame(name='top')\n",
      "C:\\Users\\sagar\\AppData\\Local\\Temp/ipykernel_23392/3726037466.py:7: FutureWarning: The default value of numeric_only in DataFrame.mean is deprecated. In a future version, it will default to False. In addition, specifying 'numeric_only=None' is deprecated. Select only valid columns or specify the value of numeric_only to silence this warning.\n",
      "  mean_bot = mean_bot.mean().to_frame(name='bottom')\n"
     ]
    },
    {
     "data": {
      "text/html": [
       "<div>\n",
       "<style scoped>\n",
       "    .dataframe tbody tr th:only-of-type {\n",
       "        vertical-align: middle;\n",
       "    }\n",
       "\n",
       "    .dataframe tbody tr th {\n",
       "        vertical-align: top;\n",
       "    }\n",
       "\n",
       "    .dataframe thead th {\n",
       "        text-align: right;\n",
       "    }\n",
       "</style>\n",
       "<table border=\"1\" class=\"dataframe\">\n",
       "  <thead>\n",
       "    <tr style=\"text-align: right;\">\n",
       "      <th></th>\n",
       "      <th>top</th>\n",
       "      <th>bottom</th>\n",
       "      <th>difference</th>\n",
       "    </tr>\n",
       "  </thead>\n",
       "  <tbody>\n",
       "    <tr>\n",
       "      <th>Task_Success</th>\n",
       "      <td>0.621739</td>\n",
       "      <td>0.328261</td>\n",
       "      <td>0.293478</td>\n",
       "    </tr>\n",
       "    <tr>\n",
       "      <th>Time_On_Task</th>\n",
       "      <td>22.550000</td>\n",
       "      <td>29.500000</td>\n",
       "      <td>-6.950000</td>\n",
       "    </tr>\n",
       "    <tr>\n",
       "      <th>base_avg_size_left</th>\n",
       "      <td>3.552157</td>\n",
       "      <td>3.636023</td>\n",
       "      <td>-0.083867</td>\n",
       "    </tr>\n",
       "    <tr>\n",
       "      <th>base_avg_size_right</th>\n",
       "      <td>3.515580</td>\n",
       "      <td>3.532653</td>\n",
       "      <td>-0.017073</td>\n",
       "    </tr>\n",
       "    <tr>\n",
       "      <th>base_avg_size_both</th>\n",
       "      <td>3.533868</td>\n",
       "      <td>3.584338</td>\n",
       "      <td>-0.050470</td>\n",
       "    </tr>\n",
       "    <tr>\n",
       "      <th>total_fixations</th>\n",
       "      <td>4085.950000</td>\n",
       "      <td>2487.350000</td>\n",
       "      <td>1598.600000</td>\n",
       "    </tr>\n",
       "    <tr>\n",
       "      <th>sum_fixation_duration</th>\n",
       "      <td>895.668200</td>\n",
       "      <td>648.486300</td>\n",
       "      <td>247.181900</td>\n",
       "    </tr>\n",
       "    <tr>\n",
       "      <th>mean_fixation_duration</th>\n",
       "      <td>207.247997</td>\n",
       "      <td>246.912927</td>\n",
       "      <td>-39.664930</td>\n",
       "    </tr>\n",
       "    <tr>\n",
       "      <th>std_fixation_duration</th>\n",
       "      <td>142.211393</td>\n",
       "      <td>182.126657</td>\n",
       "      <td>-39.915264</td>\n",
       "    </tr>\n",
       "    <tr>\n",
       "      <th>total_saccades</th>\n",
       "      <td>4084.950000</td>\n",
       "      <td>2486.350000</td>\n",
       "      <td>1598.600000</td>\n",
       "    </tr>\n",
       "    <tr>\n",
       "      <th>sum_saccade_length</th>\n",
       "      <td>540726.840819</td>\n",
       "      <td>349876.294577</td>\n",
       "      <td>190850.546242</td>\n",
       "    </tr>\n",
       "    <tr>\n",
       "      <th>mean_saccade_length</th>\n",
       "      <td>134.491394</td>\n",
       "      <td>139.216818</td>\n",
       "      <td>-4.725424</td>\n",
       "    </tr>\n",
       "    <tr>\n",
       "      <th>std_saccade_length</th>\n",
       "      <td>187.934375</td>\n",
       "      <td>194.951620</td>\n",
       "      <td>-7.017245</td>\n",
       "    </tr>\n",
       "    <tr>\n",
       "      <th>sum_saccade_duration</th>\n",
       "      <td>976.046000</td>\n",
       "      <td>598.162800</td>\n",
       "      <td>377.883200</td>\n",
       "    </tr>\n",
       "    <tr>\n",
       "      <th>mean_saccade_duration</th>\n",
       "      <td>309.088240</td>\n",
       "      <td>325.778546</td>\n",
       "      <td>-16.690306</td>\n",
       "    </tr>\n",
       "    <tr>\n",
       "      <th>std_saccade_duration</th>\n",
       "      <td>872.117172</td>\n",
       "      <td>1786.203931</td>\n",
       "      <td>-914.086759</td>\n",
       "    </tr>\n",
       "    <tr>\n",
       "      <th>total_left_clicks</th>\n",
       "      <td>630.650000</td>\n",
       "      <td>401.100000</td>\n",
       "      <td>229.550000</td>\n",
       "    </tr>\n",
       "    <tr>\n",
       "      <th>mean_time_between_clicks</th>\n",
       "      <td>3.093819</td>\n",
       "      <td>3.193403</td>\n",
       "      <td>-0.099584</td>\n",
       "    </tr>\n",
       "    <tr>\n",
       "      <th>std_time_between_clicks</th>\n",
       "      <td>4.020200</td>\n",
       "      <td>4.273917</td>\n",
       "      <td>-0.253717</td>\n",
       "    </tr>\n",
       "    <tr>\n",
       "      <th>avg_size_left</th>\n",
       "      <td>3.708180</td>\n",
       "      <td>3.693492</td>\n",
       "      <td>0.014687</td>\n",
       "    </tr>\n",
       "    <tr>\n",
       "      <th>avg_size_right</th>\n",
       "      <td>3.695774</td>\n",
       "      <td>3.595147</td>\n",
       "      <td>0.100627</td>\n",
       "    </tr>\n",
       "    <tr>\n",
       "      <th>avg_size_both</th>\n",
       "      <td>3.701977</td>\n",
       "      <td>3.644320</td>\n",
       "      <td>0.057657</td>\n",
       "    </tr>\n",
       "  </tbody>\n",
       "</table>\n",
       "</div>"
      ],
      "text/plain": [
       "                                    top         bottom     difference\n",
       "Task_Success                   0.621739       0.328261       0.293478\n",
       "Time_On_Task                  22.550000      29.500000      -6.950000\n",
       "base_avg_size_left             3.552157       3.636023      -0.083867\n",
       "base_avg_size_right            3.515580       3.532653      -0.017073\n",
       "base_avg_size_both             3.533868       3.584338      -0.050470\n",
       "total_fixations             4085.950000    2487.350000    1598.600000\n",
       "sum_fixation_duration        895.668200     648.486300     247.181900\n",
       "mean_fixation_duration       207.247997     246.912927     -39.664930\n",
       "std_fixation_duration        142.211393     182.126657     -39.915264\n",
       "total_saccades              4084.950000    2486.350000    1598.600000\n",
       "sum_saccade_length        540726.840819  349876.294577  190850.546242\n",
       "mean_saccade_length          134.491394     139.216818      -4.725424\n",
       "std_saccade_length           187.934375     194.951620      -7.017245\n",
       "sum_saccade_duration         976.046000     598.162800     377.883200\n",
       "mean_saccade_duration        309.088240     325.778546     -16.690306\n",
       "std_saccade_duration         872.117172    1786.203931    -914.086759\n",
       "total_left_clicks            630.650000     401.100000     229.550000\n",
       "mean_time_between_clicks       3.093819       3.193403      -0.099584\n",
       "std_time_between_clicks        4.020200       4.273917      -0.253717\n",
       "avg_size_left                  3.708180       3.693492       0.014687\n",
       "avg_size_right                 3.695774       3.595147       0.100627\n",
       "avg_size_both                  3.701977       3.644320       0.057657"
      ]
     },
     "execution_count": 111,
     "metadata": {},
     "output_type": "execute_result"
    }
   ],
   "source": [
    "# Mean metrics of top 25%\n",
    "mean_top = top.drop(['ID','Ontologies','Visualization'], axis=1)\n",
    "comp = mean_top.mean().to_frame(name='top')\n",
    "\n",
    "# Mean metrics of bottom 25%\n",
    "mean_bot = bottom.drop(['ID','Ontologies','Visualization'], axis=1)\n",
    "mean_bot = mean_bot.mean().to_frame(name='bottom')\n",
    "comp['bottom'] = mean_bot['bottom']\n",
    "\n",
    "# Difference\n",
    "comp['difference'] = comp['top'] - comp['bottom']\n",
    "comp"
   ]
  },
  {
   "cell_type": "code",
   "execution_count": 68,
   "id": "d861ef00",
   "metadata": {},
   "outputs": [],
   "source": [
    "comp.to_csv(f'datasets/groups_comparison.csv', sep=',')"
   ]
  },
  {
   "cell_type": "markdown",
   "id": "8ebf6343",
   "metadata": {},
   "source": [
    "## Correlation analysis"
   ]
  },
  {
   "cell_type": "code",
   "execution_count": 69,
   "id": "6287c0b5",
   "metadata": {},
   "outputs": [],
   "source": [
    "corr_cols = ['Task_Success', 'Time_On_Task',\n",
    "        'total_fixations', 'sum_fixation_duration', 'mean_fixation_duration', 'total_saccades', \n",
    "        'sum_saccade_length','mean_saccade_length', 'sum_saccade_duration','mean_saccade_duration',\n",
    "        'total_left_clicks','mean_time_between_clicks', 'std_time_between_clicks']"
   ]
  },
  {
   "cell_type": "markdown",
   "id": "e05dc518",
   "metadata": {},
   "source": [
    "### Top 25%"
   ]
  },
  {
   "cell_type": "code",
   "execution_count": 70,
   "id": "440eab16",
   "metadata": {
    "scrolled": false
   },
   "outputs": [
    {
     "data": {
      "image/png": "[encoded data removed]",
      "text/plain": [
       "<Figure size 1152x432 with 2 Axes>"
      ]
     },
     "metadata": {
      "needs_background": "light"
     },
     "output_type": "display_data"
    }
   ],
   "source": [
    "plt.figure(figsize=(16, 6))\n",
    "ax = sns.heatmap(top[corr_cols].corr(numeric_only=True), vmin=-1, vmax=1, annot=True, \n",
    "                 cmap=sns.diverging_palette(220, 20, as_cmap=True))\n",
    "ax.set_title('Correlation Heatmap for Top 25%')\n",
    "plt.show()"
   ]
  },
  {
   "cell_type": "code",
   "execution_count": 71,
   "id": "5f18de69",
   "metadata": {},
   "outputs": [
    {
     "data": {
      "image/png": "[encoded data removed]",
      "text/plain": [
       "<Figure size 432x288 with 2 Axes>"
      ]
     },
     "metadata": {
      "needs_background": "light"
     },
     "output_type": "display_data"
    }
   ],
   "source": [
    "corr_succ = top[corr_cols].corr(numeric_only=True)[['Task_Success']]\n",
    "ax = sns.heatmap(corr_succ, vmin=-1, vmax=1, annot=True)\n",
    "ax.set_title('Correlation Heatmap for Task Success (top 25%)')\n",
    "plt.show()"
   ]
  },
  {
   "cell_type": "markdown",
   "id": "dffb5828",
   "metadata": {},
   "source": [
    "### Bottom 25%"
   ]
  },
  {
   "cell_type": "code",
   "execution_count": 72,
   "id": "fb8b912c",
   "metadata": {},
   "outputs": [
    {
     "data": {
      "image/png": "[encoded data removed]",
      "text/plain": [
       "<Figure size 1152x432 with 2 Axes>"
      ]
     },
     "metadata": {
      "needs_background": "light"
     },
     "output_type": "display_data"
    }
   ],
   "source": [
    "plt.figure(figsize=(16, 6))\n",
    "ax = sns.heatmap(bottom[corr_cols].corr(numeric_only=True), vmin=-1, vmax=1, annot=True, \n",
    "                 cmap=sns.diverging_palette(145, 300, s=60, as_cmap=True))\n",
    "ax.set_title('Correlation Heatmap for bottom 25%')\n",
    "plt.show()"
   ]
  },
  {
   "cell_type": "code",
   "execution_count": 73,
   "id": "255ae524",
   "metadata": {},
   "outputs": [
    {
     "data": {
      "image/png": "[encoded data removed]",
      "text/plain": [
       "<Figure size 432x288 with 2 Axes>"
      ]
     },
     "metadata": {
      "needs_background": "light"
     },
     "output_type": "display_data"
    }
   ],
   "source": [
    "corr_succ = top[corr_cols].corr(numeric_only=True)[['Task_Success']]\n",
    "ax = sns.heatmap(corr_succ, vmin=-1, vmax=1, annot=True)\n",
    "ax.set_title('Correlation Heatmap for Task Success (bottom 25%)')\n",
    "plt.show()"
   ]
  },
  {
   "cell_type": "markdown",
   "id": "c96ed24e",
   "metadata": {},
   "source": [
    "## Correlation plots"
   ]
  },
  {
   "cell_type": "markdown",
   "id": "aad0bbf7",
   "metadata": {},
   "source": [
    "#### Time on task"
   ]
  },
  {
   "cell_type": "code",
   "execution_count": 74,
   "id": "b2e50d9f",
   "metadata": {
    "scrolled": false
   },
   "outputs": [
    {
     "ename": "NameError",
     "evalue": "name 'ggplot' is not defined",
     "output_type": "error",
     "traceback": [
      "\u001b[1;31m---------------------------------------------------------------------------\u001b[0m",
      "\u001b[1;31mNameError\u001b[0m                                 Traceback (most recent call last)",
      "\u001b[1;32m~\\AppData\\Local\\Temp/ipykernel_23392/2125185591.py\u001b[0m in \u001b[0;36m<module>\u001b[1;34m\u001b[0m\n\u001b[0;32m      1\u001b[0m (\n\u001b[1;32m----> 2\u001b[1;33m     \u001b[0mggplot\u001b[0m\u001b[1;33m(\u001b[0m\u001b[0mres\u001b[0m\u001b[1;33m)\u001b[0m \u001b[1;33m+\u001b[0m\u001b[1;33m\u001b[0m\u001b[1;33m\u001b[0m\u001b[0m\n\u001b[0m\u001b[0;32m      3\u001b[0m     \u001b[0maes\u001b[0m\u001b[1;33m(\u001b[0m\u001b[0mx\u001b[0m\u001b[1;33m=\u001b[0m\u001b[1;34m'Time_On_Task'\u001b[0m\u001b[1;33m,\u001b[0m \u001b[0my\u001b[0m\u001b[1;33m=\u001b[0m\u001b[1;34m'Task_Success'\u001b[0m\u001b[1;33m,\u001b[0m \u001b[0mcolor\u001b[0m\u001b[1;33m=\u001b[0m\u001b[1;34m'group'\u001b[0m\u001b[1;33m)\u001b[0m \u001b[1;33m+\u001b[0m\u001b[1;33m\u001b[0m\u001b[1;33m\u001b[0m\u001b[0m\n\u001b[0;32m      4\u001b[0m     \u001b[0mgeom_jitter\u001b[0m\u001b[1;33m(\u001b[0m\u001b[1;33m)\u001b[0m \u001b[1;33m+\u001b[0m\u001b[1;33m\u001b[0m\u001b[1;33m\u001b[0m\u001b[0m\n\u001b[0;32m      5\u001b[0m     geom_hline(yintercept = res['Task_Success'].mean(),\n",
      "\u001b[1;31mNameError\u001b[0m: name 'ggplot' is not defined"
     ]
    }
   ],
   "source": [
    "(\n",
    "    ggplot(res) +\n",
    "    aes(x='Time_On_Task', y='Task_Success', color='group') +\n",
    "    geom_jitter() + \n",
    "    geom_hline(yintercept = res['Task_Success'].mean(),\n",
    "              color = 'orange',\n",
    "              linetype = 'dashed') +\n",
    "    geom_smooth(method='lm', se=True,\n",
    "              color = 'blue',\n",
    "              linetype = 'dashed') +\n",
    "    labs(x='Time on Task (min)', y='Task Success (%)',\n",
    "        title='Time on task')\n",
    ")"
   ]
  },
  {
   "cell_type": "markdown",
   "id": "0d504fdc",
   "metadata": {},
   "source": [
    "#### Total fixations"
   ]
  },
  {
   "cell_type": "code",
   "execution_count": 52,
   "id": "20cebb93",
   "metadata": {},
   "outputs": [
    {
     "data": {
      "image/png": "[encoded data removed]",
      "text/plain": [
       "<Figure size 640x480 with 1 Axes>"
      ]
     },
     "metadata": {},
     "output_type": "display_data"
    },
    {
     "data": {
      "text/plain": [
       "<ggplot: (84428826884)>"
      ]
     },
     "execution_count": 52,
     "metadata": {},
     "output_type": "execute_result"
    }
   ],
   "source": [
    "(\n",
    "    ggplot(res) +\n",
    "    aes(x='total_fixations', y='Task_Success') +\n",
    "    geom_jitter(aes(color='group')) + \n",
    "    geom_smooth(method='lm', se=True,\n",
    "              color = 'blue',\n",
    "              linetype = 'dashed') +\n",
    "    labs(x='Total fixations', y='Task Success (%)',\n",
    "        title='Total fixations')    \n",
    ")"
   ]
  },
  {
   "cell_type": "markdown",
   "id": "0d98e0dd",
   "metadata": {},
   "source": [
    "#### Mean fixations durations"
   ]
  },
  {
   "cell_type": "code",
   "execution_count": 53,
   "id": "6543e20d",
   "metadata": {},
   "outputs": [
    {
     "data": {
      "image/png": "[encoded data removed]",
      "text/plain": [
       "<Figure size 640x480 with 1 Axes>"
      ]
     },
     "metadata": {},
     "output_type": "display_data"
    },
    {
     "data": {
      "text/plain": [
       "<ggplot: (84428827230)>"
      ]
     },
     "execution_count": 53,
     "metadata": {},
     "output_type": "execute_result"
    }
   ],
   "source": [
    "(\n",
    "    ggplot(res) +\n",
    "    aes(x='mean_fixation_duration', y='Task_Success', color='group') +\n",
    "    geom_jitter() +\n",
    "    geom_smooth(method='lm', se=True,\n",
    "              color = 'blue',\n",
    "              linetype = 'dashed') +\n",
    "    labs(x='Mean fixation duration', y='Task Success (%)',\n",
    "        title='Mean fixations durations')    \n",
    ")"
   ]
  },
  {
   "cell_type": "markdown",
   "id": "d0922e47",
   "metadata": {},
   "source": [
    "#### Mean time between clicks"
   ]
  },
  {
   "cell_type": "code",
   "execution_count": 54,
   "id": "983f9ee5",
   "metadata": {},
   "outputs": [
    {
     "data": {
      "image/png": "[encoded data removed]",
      "text/plain": [
       "<Figure size 640x480 with 1 Axes>"
      ]
     },
     "metadata": {},
     "output_type": "display_data"
    },
    {
     "data": {
      "text/plain": [
       "<ggplot: (84428827124)>"
      ]
     },
     "execution_count": 54,
     "metadata": {},
     "output_type": "execute_result"
    }
   ],
   "source": [
    "(\n",
    "    ggplot(res) +\n",
    "    aes(x='mean_time_between_clicks', y='Task_Success', color='group') +\n",
    "    geom_jitter() +\n",
    "    geom_smooth(method='lm', se=True,\n",
    "              color = 'blue',\n",
    "              linetype = 'dashed') +\n",
    "    labs(x='Mean time between clicks', y='Task Success (%)',\n",
    "        title='Mean time between clicks')    \n",
    ")"
   ]
  },
  {
   "cell_type": "markdown",
   "id": "755dd19f",
   "metadata": {},
   "source": [
    "# Other analysis"
   ]
  },
  {
   "cell_type": "code",
   "execution_count": 55,
   "id": "9aff2094",
   "metadata": {},
   "outputs": [],
   "source": [
    "# Look for other conclusions base on no evidence that support that any factor shared by the top 25% \n",
    "# gave them and advantage in performing better in their tasks"
   ]
  }
 ],
 "metadata": {
  "kernelspec": {
   "display_name": "Python 3 (ipykernel)",
   "language": "python",
   "name": "python3"
  },
  "language_info": {
   "codemirror_mode": {
    "name": "ipython",
    "version": 3
   },
   "file_extension": ".py",
   "mimetype": "text/x-python",
   "name": "python",
   "nbconvert_exporter": "python",
   "pygments_lexer": "ipython3",
   "version": "3.9.7"
  },
  "toc": {
   "base_numbering": 1,
   "nav_menu": {},
   "number_sections": false,
   "sideBar": true,
   "skip_h1_title": false,
   "title_cell": "Table of Contents",
   "title_sidebar": "Contents",
   "toc_cell": true,
   "toc_position": {
    "height": "calc(100% - 180px)",
    "left": "10px",
    "top": "150px",
    "width": "258.837px"
   },
   "toc_section_display": true,
   "toc_window_display": true
  },
  "varInspector": {
   "cols": {
    "lenName": 16,
    "lenType": 16,
    "lenVar": 40
   },
   "kernels_config": {
    "python": {
     "delete_cmd_postfix": "",
     "delete_cmd_prefix": "del ",
     "library": "var_list.py",
     "varRefreshCmd": "print(var_dic_list())"
    },
    "r": {
     "delete_cmd_postfix": ") ",
     "delete_cmd_prefix": "rm(",
     "library": "var_list.r",
     "varRefreshCmd": "cat(var_dic_list()) "
    }
   },
   "types_to_exclude": [
    "module",
    "function",
    "builtin_function_or_method",
    "instance",
    "_Feature"
   ],
   "window_display": false
  }
 },
 "nbformat": 4,
 "nbformat_minor": 5
}
